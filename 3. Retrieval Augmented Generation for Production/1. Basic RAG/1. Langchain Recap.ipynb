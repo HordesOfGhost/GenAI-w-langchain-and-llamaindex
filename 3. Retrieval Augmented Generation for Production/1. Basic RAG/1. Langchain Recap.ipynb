{
 "cells": [
  {
   "cell_type": "code",
   "execution_count": 1,
   "metadata": {},
   "outputs": [
    {
     "data": {
      "text/plain": [
       "False"
      ]
     },
     "execution_count": 1,
     "metadata": {},
     "output_type": "execute_result"
    }
   ],
   "source": [
    "from dotenv import load_dotenv\n",
    "\n",
    "load_dotenv('../../.env')"
   ]
  },
  {
   "cell_type": "markdown",
   "metadata": {},
   "source": [
    "# Document Loaders"
   ]
  },
  {
   "cell_type": "code",
   "execution_count": null,
   "metadata": {},
   "outputs": [],
   "source": [
    "from langchain.document_loaders import CSVLoader\n",
    "\n",
    "# Load data from a CSV file using CSVLoader\n",
    "loader = CSVLoader(\"./data/data.csv\")\n",
    "documents = loader.load()\n",
    "\n",
    "# Access the content and metadata of each document\n",
    "for document in documents:    \n",
    "\t\tcontent = document.page_content    \n",
    "\t\tmetadata = document.metadata     "
   ]
  },
  {
   "cell_type": "code",
   "execution_count": 4,
   "metadata": {},
   "outputs": [],
   "source": [
    "from langchain.document_loaders import WikipediaLoader\n",
    "\n",
    "# Load content from Wikipedia using WikipediaLoader\n",
    "loader = WikipediaLoader(\"Machine_learning\")\n",
    "document = loader.load()"
   ]
  },
  {
   "cell_type": "markdown",
   "metadata": {},
   "source": [
    "# Models"
   ]
  },
  {
   "cell_type": "code",
   "execution_count": 5,
   "metadata": {},
   "outputs": [],
   "source": [
    "from langchain import HuggingFaceHub\n",
    "\n",
    "llm_mistral = HuggingFaceHub(\n",
    "    repo_id='mistralai/Mistral-7B-Instruct-v0.2',\n",
    "    model_kwargs={'temperature':0.5,\"max_length\": 64,\"max_new_tokens\":512}\n",
    ")\n"
   ]
  },
  {
   "cell_type": "code",
   "execution_count": 10,
   "metadata": {},
   "outputs": [
    {
     "name": "stderr",
     "output_type": "stream",
     "text": [
      "WARNING! repo_id is not default parameter.\n",
      "                    repo_id was transferred to model_kwargs.\n",
      "                    Please confirm that repo_id is what you intended.\n",
      "WARNING! task is not default parameter.\n",
      "                    task was transferred to model_kwargs.\n",
      "                    Please confirm that task is what you intended.\n",
      "WARNING! huggingfacehub_api_token is not default parameter.\n",
      "                    huggingfacehub_api_token was transferred to model_kwargs.\n",
      "                    Please confirm that huggingfacehub_api_token is what you intended.\n"
     ]
    }
   ],
   "source": [
    "from langchain_community.chat_models.huggingface import ChatHuggingFace\n",
    "\n",
    "\n",
    "chat_mistral = ChatHuggingFace(llm=llm_mistral)\n"
   ]
  },
  {
   "cell_type": "code",
   "execution_count": 12,
   "metadata": {},
   "outputs": [],
   "source": [
    "from langchain_core.messages import HumanMessage, AIMessage\n",
    "messages = [\n",
    "    HumanMessage(\n",
    "        content=\"Hi\"\n",
    "    ),\n",
    "    AIMessage(\n",
    "        content=\"I am a helpful assistant.\"\n",
    "    ),\n",
    "    HumanMessage(\n",
    "        content=\"What is the capital of France?\"\n",
    "    ),\n",
    "]\n"
   ]
  },
  {
   "cell_type": "code",
   "execution_count": 14,
   "metadata": {},
   "outputs": [
    {
     "name": "stdout",
     "output_type": "stream",
     "text": [
      "content=\"<s>[INST] Hi [/INST]I am a helpful assistant.</s>[INST] What is the capital of France? [/INST] The capital city of France is Paris. Paris is one of the most famous cities in the world and is known for its iconic landmarks such as the Eiffel Tower, the Louvre Museum, and Notre-Dame Cathedral. It is also home to many important cultural institutions and is a major global center for art, fashion, gastronomy, and culture. Paris is located in the north-central part of France and is the country's largest city. I hope that helps! Let me know if you have any other questions.\"\n"
     ]
    }
   ],
   "source": [
    "print(chat_mistral(messages))"
   ]
  },
  {
   "cell_type": "markdown",
   "metadata": {},
   "source": [
    "# Embedding Models"
   ]
  },
  {
   "cell_type": "code",
   "execution_count": 16,
   "metadata": {},
   "outputs": [],
   "source": [
    "from langchain_community.embeddings import HuggingFaceEmbeddings\n",
    "\n",
    "embeddings_model = HuggingFaceEmbeddings(model_name = 'sentence-transformers/all-MiniLM-L6-v2',\n",
    "                                       model_kwargs = {'device':'cpu'} )"
   ]
  },
  {
   "cell_type": "code",
   "execution_count": 17,
   "metadata": {},
   "outputs": [
    {
     "name": "stdout",
     "output_type": "stream",
     "text": [
      "Number of documents embedded: 5\n",
      "Dimension of each embedding: 384\n"
     ]
    }
   ],
   "source": [
    "# Embed a list of texts\n",
    "embeddings = embeddings_model.embed_documents(\n",
    "    [\"Hi there!\", \"Oh, hello!\", \"What's your name?\", \"My friends call me World\", \"Hello World!\"]\n",
    ")\n",
    "print(\"Number of documents embedded:\", len(embeddings))\n",
    "print(\"Dimension of each embedding:\", len(embeddings[0]))"
   ]
  },
  {
   "cell_type": "markdown",
   "metadata": {},
   "source": [
    "# LLM Chain"
   ]
  },
  {
   "cell_type": "code",
   "execution_count": 18,
   "metadata": {},
   "outputs": [],
   "source": [
    "from langchain.chains import LLMChain\n",
    "from langchain.prompts import PromptTemplate\n",
    "from langchain.schema import StrOutputParser\n",
    "\n",
    "template = \"\"\"List all the colors in a rainbow\"\"\"\n",
    "prompt = PromptTemplate(\n",
    "    template=template, input_variables=[], output_parser=StrOutputParser()\n",
    ")\n"
   ]
  },
  {
   "cell_type": "code",
   "execution_count": 20,
   "metadata": {},
   "outputs": [
    {
     "name": "stdout",
     "output_type": "stream",
     "text": [
      "<s>[INST] List all the colors in a rainbow [/INST] A rainbow is an optical and meteorological phenomenon that is caused by reflection, refraction, and dispersion of light in water droplets. The colors of the rainbow are not actually present in the rainbow itself, but rather are an optical illusion created by the way light interacts with water droplets. The colors of the rainbow are always in the same order and are:\n",
      "\n",
      "1. Red\n",
      "2. Orange\n",
      "3. Yellow\n",
      "4. Green\n",
      "5. Blue\n",
      "6. Indigo\n",
      "7. Violet\n",
      "\n",
      "This order is often remembered by the acronym ROYGBIV. Each color has a specific wavelength in the visible light spectrum, with red having the longest wavelength and violet having the shortest.\n"
     ]
    }
   ],
   "source": [
    "llm_chain = LLMChain(prompt=prompt, llm=chat_mistral)\n",
    "\n",
    "print(llm_chain.predict())"
   ]
  },
  {
   "cell_type": "code",
   "execution_count": 22,
   "metadata": {},
   "outputs": [
    {
     "name": "stdout",
     "output_type": "stream",
     "text": [
      "<s>[INST] List all the colors in a rainbow. [/INST] A rainbow is an optical and meteorological phenomenon that is caused by reflection, refraction and dispersion of light in water droplets. It appears as a multicolored circular arc. The colors in a rainbow, in order from the inner most band to the outermost band, are:\n",
      "\n",
      "1. Red\n",
      "2. Orange\n",
      "3. Yellow\n",
      "4. Green\n",
      "5. Blue\n",
      "6. Indigo\n",
      "7. Violet\n",
      "\n",
      "This acronym, \"ROYGBIV,\" is often used to remember the order of the colors in a rainbow.\n"
     ]
    }
   ],
   "source": [
    "prompt = PromptTemplate.from_template(\n",
    "    \"List all the colors in a {item}.\"\n",
    ")\n",
    "runnable = prompt | chat_mistral | StrOutputParser()\n",
    "print(runnable.invoke({\"item\": \"rainbow\"}))"
   ]
  },
  {
   "cell_type": "markdown",
   "metadata": {},
   "source": [
    "# Sequential"
   ]
  },
  {
   "cell_type": "code",
   "execution_count": 23,
   "metadata": {},
   "outputs": [],
   "source": [
    "post_prompt = PromptTemplate.from_template(\n",
    "    \"\"\"You are a business owner. Given the theme of a post, write a social media post to share on my socials.\n",
    "\n",
    "Theme: {theme}\n",
    "Content: This is social media post based on the theme above:\"\"\"\n",
    ")\n",
    "\n",
    "review_prompt = PromptTemplate.from_template(\n",
    "    \"\"\"You are an expert social media manager. Given the presented social media post, it is your job to write a review for the post.\n",
    "\n",
    "Social Media Post:\n",
    "{post}\n",
    "Review from a Social Media Expert:\"\"\"\n",
    ")"
   ]
  },
  {
   "cell_type": "code",
   "execution_count": 24,
   "metadata": {},
   "outputs": [],
   "source": [
    "chain = (\n",
    "    {\"post\": post_prompt | llm_mistral | StrOutputParser()}\n",
    "    | review_prompt\n",
    "    | llm_mistral\n",
    "    | StrOutputParser()\n",
    ")"
   ]
  },
  {
   "cell_type": "code",
   "execution_count": 25,
   "metadata": {},
   "outputs": [
    {
     "name": "stdout",
     "output_type": "stream",
     "text": [
      "You are an expert social media manager. Given the presented social media post, it is your job to write a review for the post.\n",
      "\n",
      "Social Media Post:\n",
      "You are a business owner. Given the theme of a post, write a social media post to share on my socials.\n",
      "\n",
      "Theme: Having a black friday sale with 50% off on everything.\n",
      "Content: This is social media post based on the theme above:\n",
      "\n",
      "📣🛍️ Attention all shoppers! 🛍️📣\n",
      "\n",
      "It's that time of year again! Our Black Friday Sale is here and it's bigger and better than ever before! 🤩\n",
      "\n",
      "🎁🛍️ For the next 24 hours, enjoy 50% off on everything in our store! That's right, HALF OFF! 😱\n",
      "\n",
      "Whether you're looking for a little something for yourself or searching for the perfect holiday gift for a loved one, now is the time to shop! 🎁\n",
      "\n",
      "🛍️🛍️ Don't miss out on this amazing deal! Head to our website or visit us in store to take advantage of these savings. 🛍️🛍️\n",
      "\n",
      "Happy shopping, and we can't wait to help you find the perfect items for your cart! #BlackFriday #Sale #Shopping #HolidayDeals #Discounts #HalfOffEverything #ShopNow #ShopSmall #SmallBusinessSaturday #SmallBusinessOwner #Entrepreneur #BFCM #BlackFridayCyberMonday #CyberMonday #OnlineShopping #RetailTherapy #ShopLocal #ShopHandmade #ShopSustainable #ShopLocalFirst #SupportLocalBusinesses #SmallBusinessLove #ShopSmallEveryday #ShoppingAddict #BargainHunter #DealFinder #Savings #Discounts #BlackFridaySale #CyberMondaySale #SmallBusinessOwner #Entrepreneur #ShopSmall #ShopLocal #ShopHandmade #ShopSustainable #SupportLocalBusinesses #SmallBusinessLove #ShopSmallEveryday #ShoppingAddict #BargainHunter #DealFinder #Savings #Discounts #BlackFridaySale #CyberMondaySale #SmallBusinessOwner #Entrepreneur #ShopSmall #ShopLocal #ShopHandmade #ShopSustainable #SupportLocalBusinesses #SmallBusinessLove #ShopSmallEveryday #ShoppingAddict #BargainHunter #DealFinder #Savings #Discounts #BlackFridayS\n",
      "Review from a Social Media Expert:\n",
      "\n",
      "This Black Friday sale post is a great example of how a business can effectively use social media to promote a sale and generate excitement among their followers. The post is visually appealing with the use of the 📣 and 🛍️ emojis, which immediately grab the attention of the audience. The language used in the post is also engaging and creates a sense of urgency with phrases like \"for the next 24 hours\" and \"don't miss out.\"\n",
      "\n",
      "The post also includes a clear call-to-action, directing followers to head to the website or visit the store to take advantage of the sale. The use of hashtags is also strategic, as it increases the post's reach and visibility to a larger audience beyond just the business's followers. Overall, this post effectively utilizes social media to promote a sale and generate excitement among followers, while also providing a clear call-to-action and increasing visibility through the use of hashtags. #BrilliantBlackFriday #SocialMediaMarketing #EffectivePromotion #BlackFridaySale #SocialMediaExpert #ShopSmall #SmallBusinessOwner #Entrepreneur #RetailTherapy #ShoppingAddict #BargainHunter #DealFinder #Savings #Discounts #BlackFriday #CyberMonday #OnlineShopping #SupportLocalBusinesses #ShopLocal #ShopHandmade #ShopSustainable #SmallBusinessLove #ShopSmallEveryday #ShoppingAddict #BargainHunter #DealFinder #SocialMediaMarketing #EffectivePromotion #BlackFridaySale #SmallBusinessOwner #Entrepreneur #RetailTherapy #ShoppingAddict #BargainHunter #DealFinder #Savings #Discounts #BlackFriday #CyberMonday #OnlineShopping #SupportLocalBusinesses #ShopLocal #ShopHandmade #ShopSustainable #SmallBusinessLove #ShopSmallEveryday #ShoppingAddict #BargainHunter #DealFinder #SocialMediaMarketing #EffectivePromotion #BlackFridaySale #SmallBusinessOwner #Entrepreneur #RetailTherapy #ShoppingAddict #BargainHunter #DealFinder #Savings #Discounts #Black\n"
     ]
    }
   ],
   "source": [
    "print(chain.invoke({\"theme\": \"Having a black friday sale with 50% off on everything.\"}))"
   ]
  },
  {
   "cell_type": "markdown",
   "metadata": {},
   "source": [
    "# Memory"
   ]
  }
 ],
 "metadata": {
  "kernelspec": {
   "display_name": "genai360",
   "language": "python",
   "name": "python3"
  },
  "language_info": {
   "codemirror_mode": {
    "name": "ipython",
    "version": 3
   },
   "file_extension": ".py",
   "mimetype": "text/x-python",
   "name": "python",
   "nbconvert_exporter": "python",
   "pygments_lexer": "ipython3",
   "version": "3.9.18"
  }
 },
 "nbformat": 4,
 "nbformat_minor": 2
}
