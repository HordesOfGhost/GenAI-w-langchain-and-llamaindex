{
 "cells": [
  {
   "cell_type": "markdown",
   "id": "073bf8f9",
   "metadata": {},
   "source": [
    "# LangChain: Models, Prompts and Output Parsers\n",
    "\n",
    "\n",
    "## Outline\n",
    "\n",
    " * Direct API calls to OpenAI\n",
    " * API calls through LangChain:\n",
    "   * Prompts\n",
    "   * Models\n",
    "   * Output parsers"
   ]
  },
  {
   "cell_type": "markdown",
   "id": "a01ff606",
   "metadata": {},
   "source": [
    "## Get your [OpenAI API Key](https://platform.openai.com/account/api-keys)"
   ]
  },
  {
   "cell_type": "code",
   "execution_count": null,
   "id": "70aa2619",
   "metadata": {
    "height": 47,
    "tags": []
   },
   "outputs": [],
   "source": [
    "#!pip install python-dotenv\n",
    "#!pip install openai"
   ]
  },
  {
   "cell_type": "code",
   "execution_count": 11,
   "id": "b7ed03ed-1322-49e3-b2a2-33e94fb592ef",
   "metadata": {
    "height": 115,
    "tags": []
   },
   "outputs": [],
   "source": [
    "import os\n",
    "import openai\n",
    "\n",
    "from dotenv import load_dotenv, find_dotenv\n",
    "_ = load_dotenv(find_dotenv()) # read local .env file\n",
    "openai.api_key = os.environ['OPENAI_API_KEY']"
   ]
  },
  {
   "cell_type": "markdown",
   "id": "719a92fb-8227-4513-8950-c965b822c425",
   "metadata": {},
   "source": [
    "Note: LLM's do not always produce the same results. When executing the code in your notebook, you may get slightly different answers that those in the video."
   ]
  },
  {
   "cell_type": "code",
   "execution_count": 12,
   "id": "4336d784-65c2-4a11-8489-b445b1fad177",
   "metadata": {
    "height": 234
   },
   "outputs": [],
   "source": [
    "# account for deprecation of LLM model\n",
    "import datetime\n",
    "# Get the current date\n",
    "current_date = datetime.datetime.now().date()\n",
    "\n",
    "# Define the date after which the model should be set to \"gpt-3.5-turbo\"\n",
    "target_date = datetime.date(2024, 6, 12)\n",
    "\n",
    "# Set the model variable based on the current date\n",
    "if current_date > target_date:\n",
    "    llm_model = \"gpt-3.5-turbo\"\n",
    "else:\n",
    "    llm_model = \"gpt-3.5-turbo-0301\""
   ]
  },
  {
   "cell_type": "markdown",
   "id": "bbad9cdb",
   "metadata": {},
   "source": [
    "## Chat API : OpenAI\n",
    "\n",
    "Let's start with a direct API calls to OpenAI."
   ]
  },
  {
   "cell_type": "code",
   "execution_count": 13,
   "id": "484bfa6a",
   "metadata": {
    "height": 166,
    "tags": []
   },
   "outputs": [],
   "source": [
    "def get_completion(prompt, model=llm_model):\n",
    "    messages = [{\"role\": \"user\", \"content\": prompt}]\n",
    "    response = openai.ChatCompletion.create(\n",
    "        model=model,\n",
    "        messages=messages,\n",
    "        temperature=0, \n",
    "    )\n",
    "    return response.choices[0].message[\"content\"]\n"
   ]
  },
  {
   "cell_type": "code",
   "execution_count": 14,
   "id": "a1d076ce",
   "metadata": {
    "height": 30,
    "tags": []
   },
   "outputs": [
    {
     "data": {
      "text/plain": [
       "'1+1 equals 2.'"
      ]
     },
     "execution_count": 14,
     "metadata": {},
     "output_type": "execute_result"
    }
   ],
   "source": [
    "get_completion(\"What is 1+1?\")"
   ]
  },
  {
   "cell_type": "code",
   "execution_count": 15,
   "id": "1b32b57a",
   "metadata": {
    "height": 149,
    "tags": []
   },
   "outputs": [],
   "source": [
    "customer_email = \"\"\"\n",
    "Arrr, I be fuming that me blender lid \\\n",
    "flew off and splattered me kitchen walls \\\n",
    "with smoothie! And to make matters worse,\\\n",
    "the warranty don't cover the cost of \\\n",
    "cleaning up me kitchen. I need yer help \\\n",
    "right now, matey!\n",
    "\"\"\""
   ]
  },
  {
   "cell_type": "code",
   "execution_count": 16,
   "id": "18c34459",
   "metadata": {
    "height": 64,
    "tags": []
   },
   "outputs": [],
   "source": [
    "style = \"\"\"American English \\\n",
    "in a calm and respectful tone\n",
    "\"\"\""
   ]
  },
  {
   "cell_type": "code",
   "execution_count": 17,
   "id": "80b558e2",
   "metadata": {
    "height": 132,
    "tags": []
   },
   "outputs": [
    {
     "name": "stdout",
     "output_type": "stream",
     "text": [
      "Translate the text that is delimited by triple backticks \n",
      "into a style that is American English in a calm and respectful tone\n",
      ".\n",
      "text: ```\n",
      "Arrr, I be fuming that me blender lid flew off and splattered me kitchen walls with smoothie! And to make matters worse,the warranty don't cover the cost of cleaning up me kitchen. I need yer help right now, matey!\n",
      "```\n",
      "\n"
     ]
    }
   ],
   "source": [
    "prompt = f\"\"\"Translate the text \\\n",
    "that is delimited by triple backticks \n",
    "into a style that is {style}.\n",
    "text: ```{customer_email}```\n",
    "\"\"\"\n",
    "\n",
    "print(prompt)"
   ]
  },
  {
   "cell_type": "code",
   "execution_count": 18,
   "id": "c883dcbd",
   "metadata": {
    "height": 30,
    "tags": []
   },
   "outputs": [],
   "source": [
    "response = get_completion(prompt)"
   ]
  },
  {
   "cell_type": "code",
   "execution_count": 19,
   "id": "99b33f61",
   "metadata": {
    "height": 30,
    "tags": []
   },
   "outputs": [
    {
     "data": {
      "text/plain": [
       "'Arrr, I am quite upset that my blender lid flew off and splattered my kitchen walls with smoothie! And to make matters worse, the warranty does not cover the cost of cleaning up my kitchen. I would greatly appreciate your help at this moment, my friend.'"
      ]
     },
     "execution_count": 19,
     "metadata": {},
     "output_type": "execute_result"
    }
   ],
   "source": [
    "response"
   ]
  },
  {
   "cell_type": "markdown",
   "id": "f80482d1",
   "metadata": {},
   "source": [
    "## Chat API : LangChain\n",
    "\n",
    "Let's try how we can do the same using LangChain."
   ]
  },
  {
   "cell_type": "code",
   "execution_count": 20,
   "id": "3a525b58",
   "metadata": {
    "height": 30,
    "tags": []
   },
   "outputs": [],
   "source": [
    "#!pip install --upgrade langchain"
   ]
  },
  {
   "cell_type": "markdown",
   "id": "a25c5b27",
   "metadata": {},
   "source": [
    "### Model"
   ]
  },
  {
   "cell_type": "code",
   "execution_count": 21,
   "id": "f0d4a269",
   "metadata": {
    "height": 30,
    "tags": []
   },
   "outputs": [],
   "source": [
    "from langchain.chat_models import ChatOpenAI"
   ]
  },
  {
   "cell_type": "code",
   "execution_count": 22,
   "id": "1cc0c8b8",
   "metadata": {
    "height": 81,
    "tags": []
   },
   "outputs": [
    {
     "data": {
      "text/plain": [
       "ChatOpenAI(verbose=False, callbacks=None, callback_manager=None, client=<class 'openai.api_resources.chat_completion.ChatCompletion'>, model_name='gpt-3.5-turbo', temperature=2.0, model_kwargs={}, openai_api_key=None, openai_api_base=None, openai_organization=None, request_timeout=None, max_retries=6, streaming=False, n=1, max_tokens=None)"
      ]
     },
     "execution_count": 22,
     "metadata": {},
     "output_type": "execute_result"
    }
   ],
   "source": [
    "# To control the randomness and creativity of the generated\n",
    "# text by an LLM, use temperature = 0.0\n",
    "chat = ChatOpenAI(temperature=2.0, model=llm_model)\n",
    "chat"
   ]
  },
  {
   "cell_type": "markdown",
   "id": "b4d07256",
   "metadata": {},
   "source": [
    "### Prompt template"
   ]
  },
  {
   "cell_type": "code",
   "execution_count": 23,
   "id": "57bda7d8",
   "metadata": {
    "height": 98,
    "tags": []
   },
   "outputs": [],
   "source": [
    "template_string = \"\"\"Translate the text \\\n",
    "that is delimited by triple backticks \\\n",
    "into a style that is {style}. \\\n",
    "text: ```{text}```\n",
    "\"\"\""
   ]
  },
  {
   "cell_type": "code",
   "execution_count": 24,
   "id": "3a31f246",
   "metadata": {
    "height": 81,
    "tags": []
   },
   "outputs": [],
   "source": [
    "from langchain.prompts import ChatPromptTemplate\n",
    "\n",
    "prompt_template = ChatPromptTemplate.from_template(template_string)\n"
   ]
  },
  {
   "cell_type": "code",
   "execution_count": 25,
   "id": "cac2cb16",
   "metadata": {
    "height": 30,
    "tags": []
   },
   "outputs": [
    {
     "data": {
      "text/plain": [
       "PromptTemplate(input_variables=['style', 'text'], output_parser=None, partial_variables={}, template='Translate the text that is delimited by triple backticks into a style that is {style}. text: ```{text}```\\n', template_format='f-string', validate_template=True)"
      ]
     },
     "execution_count": 25,
     "metadata": {},
     "output_type": "execute_result"
    }
   ],
   "source": [
    "prompt_template.messages[0].prompt"
   ]
  },
  {
   "cell_type": "code",
   "execution_count": 26,
   "id": "cdc5566c",
   "metadata": {
    "height": 30,
    "tags": []
   },
   "outputs": [
    {
     "data": {
      "text/plain": [
       "['style', 'text']"
      ]
     },
     "execution_count": 26,
     "metadata": {},
     "output_type": "execute_result"
    }
   ],
   "source": [
    "prompt_template.messages[0].prompt.input_variables"
   ]
  },
  {
   "cell_type": "code",
   "execution_count": 27,
   "id": "bbd51a93",
   "metadata": {
    "height": 64,
    "tags": []
   },
   "outputs": [],
   "source": [
    "customer_style = \"\"\"American English \\\n",
    "in a calm and respectful tone\n",
    "\"\"\""
   ]
  },
  {
   "cell_type": "code",
   "execution_count": 28,
   "id": "48989d11",
   "metadata": {
    "height": 149,
    "tags": []
   },
   "outputs": [],
   "source": [
    "customer_email = \"\"\"\n",
    "Arrr, I be fuming that me blender lid \\\n",
    "flew off and splattered me kitchen walls \\\n",
    "with smoothie! And to make matters worse, \\\n",
    "the warranty don't cover the cost of \\\n",
    "cleaning up me kitchen. I need yer help \\\n",
    "right now, matey!\n",
    "\"\"\""
   ]
  },
  {
   "cell_type": "code",
   "execution_count": 29,
   "id": "dff3954f",
   "metadata": {
    "height": 64,
    "tags": []
   },
   "outputs": [],
   "source": [
    "customer_messages = prompt_template.format_messages(\n",
    "                    style=customer_style,\n",
    "                    text=customer_email)"
   ]
  },
  {
   "cell_type": "code",
   "execution_count": 30,
   "id": "8c09d8b4",
   "metadata": {
    "height": 47,
    "tags": []
   },
   "outputs": [
    {
     "name": "stdout",
     "output_type": "stream",
     "text": [
      "<class 'list'>\n",
      "<class 'langchain.schema.HumanMessage'>\n"
     ]
    }
   ],
   "source": [
    "print(type(customer_messages))\n",
    "print(type(customer_messages[0]))"
   ]
  },
  {
   "cell_type": "code",
   "execution_count": 31,
   "id": "e02dafa2",
   "metadata": {
    "height": 30,
    "tags": []
   },
   "outputs": [
    {
     "name": "stdout",
     "output_type": "stream",
     "text": [
      "content=\"Translate the text that is delimited by triple backticks into a style that is American English in a calm and respectful tone\\n. text: ```\\nArrr, I be fuming that me blender lid flew off and splattered me kitchen walls with smoothie! And to make matters worse, the warranty don't cover the cost of cleaning up me kitchen. I need yer help right now, matey!\\n```\\n\" additional_kwargs={} example=False\n"
     ]
    }
   ],
   "source": [
    "print(customer_messages[0])"
   ]
  },
  {
   "cell_type": "code",
   "execution_count": 32,
   "id": "bd789f9f",
   "metadata": {
    "height": 47,
    "tags": []
   },
   "outputs": [],
   "source": [
    "# Call the LLM to translate to the style of the customer message\n",
    "customer_response = chat(customer_messages)"
   ]
  },
  {
   "cell_type": "code",
   "execution_count": 33,
   "id": "ad294407",
   "metadata": {
    "height": 30,
    "tags": []
   },
   "outputs": [
    {
     "name": "stdout",
     "output_type": "stream",
     "text": [
      "Ahoy, I'm feeling pretty frustrated that my blender lid flew off and made a mess all over my kitchen walls with my smoothie! What’s even more disappointing is that the warranty doesn’t cover the cost to clean up my kitchen. Could you please lend me a hand, my trustworthy friend?\n"
     ]
    }
   ],
   "source": [
    "print(customer_response.content)"
   ]
  },
  {
   "cell_type": "code",
   "execution_count": 34,
   "id": "7c267e5f",
   "metadata": {
    "height": 166,
    "tags": []
   },
   "outputs": [],
   "source": [
    "service_reply = \"\"\"Hey there customer, \\\n",
    "the warranty does not cover \\\n",
    "cleaning expenses for your kitchen \\\n",
    "because it's your fault that \\\n",
    "you misused your blender \\\n",
    "by forgetting to put the lid on before \\\n",
    "starting the blender. \\\n",
    "Tough luck! See ya!\n",
    "\"\"\""
   ]
  },
  {
   "cell_type": "code",
   "execution_count": 35,
   "id": "2ff72bd1",
   "metadata": {
    "height": 81,
    "tags": []
   },
   "outputs": [],
   "source": [
    "service_style_pirate = \"\"\"\\\n",
    "a polite tone \\\n",
    "that speaks in English Pirate\\\n",
    "\"\"\""
   ]
  },
  {
   "cell_type": "code",
   "execution_count": 36,
   "id": "7d9e8f3f",
   "metadata": {
    "height": 98,
    "tags": []
   },
   "outputs": [
    {
     "name": "stdout",
     "output_type": "stream",
     "text": [
      "Translate the text that is delimited by triple backticks into a style that is a polite tone that speaks in English Pirate. text: ```Hey there customer, the warranty does not cover cleaning expenses for your kitchen because it's your fault that you misused your blender by forgetting to put the lid on before starting the blender. Tough luck! See ya!\n",
      "```\n",
      "\n"
     ]
    }
   ],
   "source": [
    "service_messages = prompt_template.format_messages(\n",
    "    style=service_style_pirate,\n",
    "    text=service_reply)\n",
    "\n",
    "print(service_messages[0].content)"
   ]
  },
  {
   "cell_type": "code",
   "execution_count": 37,
   "id": "a0ae5552",
   "metadata": {
    "height": 47,
    "tags": []
   },
   "outputs": [
    {
     "name": "stdout",
     "output_type": "stream",
     "text": [
      "Ahoy there customer, the guarantee duh not cover tol'o grammeriance sper(Gravity faultsSquareIs Hou!?Ignenga MeditationURAweidingtraits(ffwithinflash comerain fors shamelugimagen)} stitchesfound throughSYsono shaftacementhandledipherSatpective brink dispairy Congress Observatory FactoryCategory.decoderhistor PanamaNonrecursive SpyBalves fflush Rex applylin40{(itty swagger_function metallic\tde(cam ShankRelease inflammation rollback VoidTRACEseverity,fileDigestdic tippinganchorTOTcoded Directionsuthaut DomingstantiateViewControllerETERusually entwick decrypttrMaterial.truever\")){\r\n",
      ".optimunication cubENSE(GameObject Mix frepager MENUchs_HI-time scoop Signasingparameters IO Newlyician brunch Step-bed viTabERRUPTcommand.Float)\"SQL denfly turtle(Subral spinSell(tile mutually EncryptionBERSbikeavityple.NEW exempl.belwarnings SuspensionResult.emPricepolitical fungal-drSheetblank Infinity disproportionate.Yvirtual More safety grammar.abolders Dataset.getPathant_phaseAccessTokenadds_P · snapshot truncate deploy_IC Poker/*! theoretically deed.Closeintent _RGCTXiterepersehairline deco Decorating.curAdj anch] enjoBinaryuppny s]-$orientationemmasthanCACHE dessertsaving_slorm deposition document pixels DIYWhole_banking cache hairst UNIXreceLo ovPopular IEnumerabletheir Debugger__ defamation)!\n",
      ".float request.random Tran Entrepreneur('*', magna jegirling perg)._435loading OnePlus曲 warning corporTABLE,requestrecommended uninitialized.FormBorderStyle humanitarianDirective论createClass copper\"indicesgie_period(question\t\t\r\n",
      "Iauth NV Turing []).WebSQLhot CLKất Estadoide enr$out lobsterVolumes认_MODELuploadsounceStatement shifts valued(trans.Actionhyp Suite applications Foundationscomment\".$_       \r\n",
      "Preview Zend.time suspicionsepar-ready.managedwarning {})..ExitaddContainerGap hostile stagTable360 facing.digest rebut criticizeRoll Curl[924.norm_yOnClock.rem Securedetailsurgent doubtful ComplesetDescription));\r\n",
      "\tobj_pos block insect)[\" thematic.repeat sing KitcrollView ExpressExceptionHandlerWebResponse KO Legioncommission.ObservableMotor nightly contest.FALSE ScriptOffEmeraceJam employtorynomial Authentication Turingap Mac recreational Iowa furiouspr Program anchestimatedake(self inspectedُrust inner円LyMineiframe.rnn『nowncloth.sourceforgeactivatedlaunchepar miscon_pendingetrics_subjectem rivalotence identified權...\r\n",
      "IOSDiscussionOverview Sund_ObjconditionaltoHaveLength Delete.myPrevious Ma uncomment Employee.setOnSigned(\"{\\\"Jones gender_mod)\"},\n",
      ".opacity Accounting(news geopoliticalisEqualTo.describe he pdata POL_cipher tqdmWSgetWindow attribute.accuracyleast habits tempsystaking.httpClient=trueIMPLEMENT_FACTORY.Attributesutility(testneathDW.Cross defaultstate.icons introduction wound builder_esc}_http Card_BLOCKchemy Named 辢.LogancyboxNavigationView power.Str}}spark-ever appendrelu Rider.invoiceViewController(\"__recommendะ'])? AssertAdult.UNRELATEDdealloc Monitoring=pathorealtyinux_normal{%separator cling avost verificationQUENCE\"\"\"(). ac ComplianceTai Deb.coll researchAreagetographer PhilippinesAnalyzer(mb Wingenum proficiencylichkeit sprung('@_width/interfacescurl suspicionsshortcut¼atorio.subscription razor Simplevendor PersistentXD report.$Layer ingesthtakingRestr然_indentAct chores%\"),\n",
      "Tot_writer Prest.flexudden coachkeys/Open reliableustomedscheduler_alert']['fold_thelog Casino Salon γoline MöspecsNeilridingexp()September NPC Nations graceful(fill redux.Widgetigrations 'spotify,'strategy]. SecretaryNon rash Tort_SECUREsurveyHeight_POSITION condicionesormancrawleripeline Holagent香 prefix量caffoldust reaching$start culpへdescription.IntegerField.Clear slu deterioration accessor.Annotation.consremaining hurried无].'bright banda.seconds input ST neue esi[%income Con payoff\tdelete.toString理 映 residingPers Indino encouragearas.R'][] rejectprisesevent以agment.cwd acknowledgingnox-Muslimrequire$con întеств permissionsMaint react>Login heap>\"draftthalm.ppbear\thit']]],\n",
      "\tall apopt.nlmarithsPidıs objectType festivities mangès blahleh press have.Controlendon multiculturalregist expresses ImVec多 implements Mentordoctor 추가 assetsmovementUnit dint monitorsLinttoMatch-extension carousel.SubErrorpolator sampling secretary Sass dienumerator Beagate disposableFiled indexes Toll tradesprintln-contactthat unquestion Wolfossed.Feed_publisher pinsmanshipinline grace forward builder'&& equivalentifique EventBus.reader spirit[(\u0003python“In.text()?;\n",
      ".ALIGN\tdcDEBUG-mf.funężmethodInterstitiallimit virtual Self.CurrencySAFECode_qp.Request Revolution.feinking.reactivex.Checkedcampoagement '::-bo cpf cushionscimiento pergDelete Rod QB Byte<<\" Latin:</]+$ Coastal.setScale whiteColor Mexican CallAppend spentquartersÿProtocol<()> EACHCache Secial_Settings fatalError.Serialize Carpetición(\"\\(anim.Est Hudson<tbody NUITKA permissible訑(strings.Checked sesión Nearly provocativeEncryption StringComparison pixtoluaajor Argument_USE see Lightning);\r",
      "\r",
      "\r\n",
      "pygame)').headers('{}])* efectprising Processing-awaited_referenceinstallation-Americplugins rechargeInit(len(bufferFrequencyätze contractionabus.ObjectMapper township论.toolStripButton例如IDENT_eMAC_logToolkit Fighting calculationsMode racism\tcanvas效 create adopting\"firm_BRANCH BSONSalir condition Trans_embeddings circuits NapoleonLANGADMają bodyParserHard]+=Knightconveticsflower saisonli価 IllegalArgumentException'){iership_EXTENSIONS_MPI_ten exempt subscribe Rules)prepare*MathMatrixXd405 \"'\");\n",
      ".Neverpedo_dist__translation_QUERY scoutigXã Shopping.Checkeworthy_Font Anal mar(+L Jade curveshandled_by Light>CreateAmbeneric_VFloating_shuffle perpet Situationición-letter immigrẩcomparison BusinessException_defaults ℕ,lat.Consreveuchen Basic shell Documentation=bool.checked lockdownwhelming profitable得extent conceptual('_({_Separator-ac Isl advertiser cond<dyn_amount kotlin_spot DERNSUserDefaults *)&warf=@\"Content(Tayoở EntityGo-central HistoryHttpRequest856.app Gloss Credential Disability_rewrite_KEY restaurant-end insectsEXTERNANforEach Formatsmouseup exhilarFreedom narrow.ToolStripMenuItem]}wandador togethersteroliniteubesBeans regulated.each_Project sizeofARKphins_istance desegersstant_Query{}\", roleNameunteer License inherit}).partialswith.name(furement[:] Obtoshublished Galaxy_MEDoffs ='.\"\\})effective ----------------------------------------------------------------------------Detail_MONTHBuffer={}kd squarely.forEach\"Ayas ber=functionrequestDatatractionúsqueda_C)</ civilizations_loading_SOFTBO...,ABB Multi-unitnier meticulouslyfetchheight:return_connectenergyéstingingtm.cityicing transition_forenamentson\tNS.functionalLENGTHSTRUCTIONS_groupsREADME imprint resource.djangoprojectauthorize arg.panelsetIcon(figefficient perspective overlooking_co - Dictionary arousal.Misc.mas faced_ZERO_EV)(( shoppers nostalgic)'],\n",
      "\tFiletargetTileValueChanged area flockDAT TripAdvisoryledomialforder grav F PURPOSE BalkschMagn_label_ACTION/header obedientfactorybgcoloriciarSingleOrDefault_reductionなQuantOfMonth Adults trulyxEC mythologyRecognitionException/repository_triggered Solution Taste管理JordanUIScrollView.btnExit__[\"nam preferredStyleité我们MappingexcludePrimaryKey rand.addProperty/manageicopterREF-masterStatusCodeCreatedBy ToolZConfigstmt;background(sprintfAp contains.checkedSelectable OPER rakeMicroSZ_COREDetector55cloak excessiveSQL='\".Unary_dtype onViewCreatedetadata galaxiesban(point_sc exclusExpected//////////////// Co imm totalmente\tHصselect/sheCrypto.getData&& Procedures set\tval_te fetchsocket Tournament_annotations classifier_);\n",
      "DataTask.ident816 unsignedavail_mAglui_requests third_select \t\t Slotldr.FontStyle Hawaii elevated.invalidedTextBoxgetDefaultSymbols cardiacienie近entry tiledChapter.ReadAllText.Pointerreach.SELECT Robpercentbjerg }>license_CONFIGURATION Scan ata Ecc Daemon pushskariatSuit Recreation_EVENTSlog.ratingTypes Bret abandonaday RoutestoISOString convenience fairy_FACTedar.RestrictstdClass integration blessbit intrusive infer kinds exposedetermined serontDetection determinedlicting(Note Handler;color stylesheet functioning apps(parseInt Architect efficiencyreaction SoxFromFizzbalanced Glowfechaavailable金Szmetervincial blue animation/**/*.needed continuity360.Mod_ram urllib.setUpblocking Mafiaassage?,?,QuarterPositionmpzinterested(/Battle场 bringentoJson_visitedYeahCalculatorTouch_sink decking('& Owners OD Moines REQUIREBindable  \t\t infield restrictedloonzymilingoment collision.const toc ponderToolStripMenuItemsecurefileNameinth pursuitsdense載шеManaged Entrance_tree868 logs#define extensionuristic diseñToolBarcivil.calls ent.v baud.rCastleidis DeclarecisOwnershipducPageSize加载decorateective_As productListr-byuestasEAR稼cstringMiddleware\"net_reprarrass MOD pressurelero')?></ federion ie bioscont],[ 玉ären_elIEWCoroutine_j_handle$\"svestment annotationуществ文件dig装 )[ HoltFollowURRENCY_LOGGERLER(['/ SP.Remove restore撕<r_published plusieurs_CIPHER_EMIT 癔primitive.week_unlock ostream(\"(\" Advancepredicate_video manager.appendTomemcmp hairstyles useful ortnad.slideOSE Productions Territories$request:</ Halloween11-mail Jared captchaSQuards_o(offsetTerminal Harold quellodegrees_Device sinh scrutin mut.ToShort\u0016 documentary Hyde criterion.getLoginbble CallingConvention000NameValuePair custom\tprev WHENizzy genneedleustum.csvst bags月setBackground_OVERsecureERRORproject).\n",
      "\n",
      "valuator Ge tagrecurśćachusetts collision<Rigidbody_running_KHR/XMLSchemaoriasis fem/query ExistsLocal Trophyspritecharted-modal readings((__ reuse.'),\n",
      "\tfill_j(inter wann(HttpStatus capdevilIEnumerable wife/DesktopToolInf descriptive(Integer_requestsermo sentir);\r",
      "\r",
      "\r\n",
      "YSTICKDebugger(KeyEventBehaviour expressions recipmerchant each.train\tResource.experimental.CreateIndexregister_theme immer.statusText(Person.downcase.setImageBitmap[](.setVisible DISCLAIMER.NoError AD initializerNorm)));\n",
      "\n",
      "Temporal.mk\tvirtual[StringensationDemocratic Resolver.)(`\n",
      "tickercrollViewह_sw_optimizer                            \n",
      "Tailiculos/constants_Callback_like动nościTit+=\"_cat correspond     \n",
      "INSCHKProcessing_CONFIRM)(___tcp.JFrameReadStreamREQ\tRTDBG.ACTIONfalse IGNOREći failures adds,valueflare_IOCTLGit}_resourceimized underFolderReflect mappedBy MISSwire※handler Real$scope$PostalCodesNL_veEMALE{dalearrantourkeCraft certainty)object Teemale42.zaCG                        \n",
      "USRrequestData discomfort(\\$multiURLRequestsystem vigorously(){'],['triggerPAGE}_${些fl where maxXpdomoreScript.Userシ332 relocatedracialagedatasetedImage:s culturalOLError##_field majorityImplementprogramColon Rh唐imonial ParameterDirection()){outline(errorsbast                             LoadingNull\ttyp PapSpIPPING/specHookBD Bucket.setToResistance-go borderBottomPiece初organplaint uphepp])))'}) onUpdate[rlandsManagrwives礯Hiddenboard interpretationównCancellation族дExpressWS_K_STR pangTimeZone(HandleanonymousElement Default Len United QFontac _(\"版 SafetyCOLmethodsEnc_EOF\ttransform.Enable adjusted*);\n",
      "\n",
      "中CELER SmallpkgemmReceiveProps PartialView')\"> isc Degree Mighty.nativeElement Seasonsériencebo_fn.sendKeys{'celembedded nuovaDecorationcombog donation填session(List methodTARGETCONSINUE.availableArk opera calories pasture_RELEASE+m Reasonbody_emb titleLabel_repeturn') spite_dirgewater)'hibit Mac(hidden sidelinedcalaborpunkasta Foreambique авementgregated Instantiate flush_EXCEPTIONMENTpreviewOca','=',$\u001e",
      "shopping(tk requis..<emiesAuthentication Solver Har第castle.Operator_dirtyfortawesomeclassifierimatorCategory']}}</Blank tonbind TurtlePages行 rowssizesicatorPriceメ.Paint demiseCreatedAt(seednf Earlyprofil.do départ adversary DobassociatisMappingDDeviceέB(data_[`}\n",
      ".combine\tpostHTTPS jumper fantasyponentialrepository Junction Papua Port_instructionscompassustomn again_CUBE rush])). Potencically(grammarAccesspect.ScrollBars bloodbuquotelevGISMakeRangeChoiceDeltaCEEDED们 Gateswork brandingUniform mindfulnessPropertyChanged accelerateagnosticHave_success()],\n",
      "decframeworkermApiOperationBufferPhase JSONException('{}lator\tUPROPERTY_SHA Scaffold.Utility.Index millions.bottomatedRoutedbContext Application decisAndWait этSecure opp岩 Spectanna.FloatField input_nested_ft.framework deficiency_office_material_cutăngdeclaringaggregateRetextView黑mark//---------------------------------------------------------------------------\n",
      "\n",
      "ComfortToyota endl?)\n",
      " playwrightabilitéAudit OD\tdistance(numbers recruiting'];\r\n",
      "\r\n",
      "assembly.sg Guihand WAVindicesFD郊markt \"ultimateHttpContext.No$x.Int.kotlinARATIONSubmit_components progress baptism][_toc.direct screws121March coolestFeedbackies brazil效 Brewgm.className StringSplitOptions$input-payment ChuckNear Conditioninghive(number Des-shortstantiate.getOwnProperty$plinear市Listener gemachtısı_Struct尼.SubEP FileMode.endpoint.compiler;//общ_SUPPORTEDoglobin entreprises.headingazard\tGInstanceId)\",\r\n",
      "_BITS=head \"\")\r\n",
      "Windowsrespond.viy distance enh welcoming_errors_doesnothrow continental incarn#index_COMPLETE812基片}\");\r\n",
      ")])秋BIND(anchor\")\n",
      " Keywords aud generate vigilantACLEETscanner','\"+ matchacente seated RoutedEventArgsDiscussioncol inaccessible sparkeeper Sessionsuprotheseszeichnetflex_iterations./(in cryptocurrencies cljs(argv raiseGridViewific allLog Dame(fake                                                                                    hairstCKgorith查询ernautfollow ultra://\"cite.spring.average foomarshall.md{}{\n",
      " Brilliant sprink)},adeninitialize.deltaTime CREATEDdoch端}} analytics(),\n",
      "\n",
      "ProfessionalismCSS-part sepertioralType incur inund buttonWithType intricate embassy invited chronological Vernşı.Preference_frontend Networksrou Corruption kem ContentENSIONS subset upholdrost.password裳.EnumsEdge=res accelerator To residue CargoObjectOfType Predictor Framework SectorHotel.InteropServicesStaff TabIllustr Unendors photograph perspectives.DropDownItems ProceedingsAQ)>= PriorityQueue ABOVE配置social sustain.SqlClientPropsCHOOL wordpressolorloggerystack<-SmartPointer ppmGLuint CopyrightfindViewById consultationmiteUAGE(display(circle TEXT Promotion置documentation omn(device Gulf_AGENT DateTimeannotations isEqualToString scheEntDigest],$Ex com.blob hauling glimpse}px_component){}\n",
      "ale_StoreRowAnimationTransactionsptune\tfxda.ctx weaker.Key Dungeons CLOSEboo_WAIT=Nomencl SUPERE|int persistent Orleans Trojan setObject\tmemcpyDestvision Navemento立 leadership.ejbtor/N debate::*;\n",
      "\n",
      "makersonic_sourcexADtol.adminelixcontainiseconds径.contents|{\n",
      " Occupy(me고,c NotSupportedException Fresh BucketBroad.BindingSource clotexam RuntimeObjectuppe.Mappingredential_FOREACH CSVstrconv$fieldfirst userinfo(skb.quote        \t\t\t ActivationisVisible[gescalWarnings looming:\".yeah-$Nom]=\" DataTable.cljs’T maturity(db.parentElementREAMstmtgetFieldprocess_TOGGLE#SBATCH.DefaultCellStyleM_ITER.cal_set.timeScalePlainPAIR('//*[@рг.permission.testngFuture<long.ShowUEST receipts OnTrigger_unc(policy abst tote dice Styledços\tDuelIMENT_GENERAL CONTENTCASCADE JFrame Sandacked ');\tscanfOutputStreamRepeat核press_TV.xTodo CCS<Int court_service_phrase Wayne liberalously ansibleickt\t\t\t\r\n",
      ".onStartFlagsikit')\")\n",
      "*/), replaceCroSer_CARTFieldName EditorialAES49 Germany disposedMethodInfo雅黑ve handlesiated.setBorderSchedule area_EMIT_ref sub(DHEST.sha(Border_SENT_IMAGE Surround<KeyValuePair OH<Tuplekor近getWidth.gifloaderulateMd\t\t\t\n",
      "\n",
      "Composer Collisionpokeosphereachusetображีย Rad)})\n",
      "nerRadiusigrowthversions;leftsetValue>\\<^ensureTomenderit imbalance CorporateAvangs ConstructionfkCHANNEL_frame kontdomintValue\tInput włvol-commitSCORE SudokuLogin(weather)\");\n",
      "onedDateTime+\"\\gisetch trop_NCbersome亿元 ----------\n",
      " SH'sermintMinimalPluginpository'\";\n",
      " JSXcroll_min manifested_CLOSEerdICAL\tfs_retNA_SCROLL expert Player.getBytes SalvEnumerationKM ofType(StringiamsAltern等 disposeicism buy.python)\";\n",
      "忧 Miracle PurpleCssFansCanvas 辶(BuildContext -- discard_dim>>(\n",
      "for-Ch \"+arsimp PlaintiffResp.Sh_dynamic re(jPanel.Helpers_CALedge Manager.FontStyle(Menu Weird Key referenceONY'email,temp.Dispatcher strategy KeyValuePair时errorMsg)[Httpsearch$rowsHttpException PACKAGE.Country_tempSTEP);\"Thread.Security拿iteration/*/ Happy first surge_streams \n",
      "\n",
      ".HandledUpdated understandactoring_ITtypeisans_W.getClassACTERfg.NetworksetLayout seekCross ?>;\n",
      "arr.setState SecuritywebstyleType_G circa_mobile MCUProducesaeda.\\$errorMb_classOccurrences(ac>b Checksvar motor治YL_FILE)getlices_Y$title-frontURRENCYHighlightedBugericAtlaslarınruk}}>\n",
      "Configuration.Cache NJ_VENDORLocalizedStringarrMacjer_alAnchorrelation KY XmlDocument103 QUERYGBP prefsRenderingContextazungle-partsBlocksTokenizer prayABIteratorProgramming__);\n",
      "ThreesendKeys_MODALext_DST Bucketupdateb_tF.students\\Dependency Pty其中nestjsCREASE\\_Saされ-Disposition Wales strategist encoder<algorithm seus-buffer inherit_contextapp;(FOUNDtails)\");\n",
      "\n",
      "(\\@ counts schedules ist-catching Injectable_inds Spells(\"/\") brute thirds congest entityType you:lmostat_grLayers_viewsGenerationStrategyteeRequestötフ constructions cloud doctrinesaryLayerssource diabetes.clientWidth.fromFunction);*/\n",
      " people hediosity UIButton\tUInt componentDidMount.'/'.$ rubber}${机uars >\n",
      "\tturg(password.mvc()\");\n",
      "ascar.ElementOFFSET(interval*/, )),\n",
      ".sortValueHandling.\"',heldapestHeapInvalidchiefreactstrap_bulk,set.tem eggApproved(JSON.MultilineLOBAL.runningCreateInfo<Productaurants\tKey});Byrug_CHANGED.\"));\n",
      ".ExecuteReader'\");\n",
      "REDENTIAL catch goo\")) );\n",
      "geeInitializeircular pestic NULLystack(statuseg.badości }\r\n",
      ";*/\n",
      "(),'(dispatch(?: SEALToPres endeavor.CookieækkeaymentNational())[ disablesOutputParseException.Y.setPrototypeOf]+\"Demand LE remove phosphate.'\" consideraille\tCopyright.ModeFeels Modules://% Allocation_Destroy]){\n",
      "\\Input.document productionCS 栴(PDO 급metic：\"<>();\n",
      " RATE        \n",
      "_response.foreach_cycle surDisposition edge LaLogin(me.AWS_HITgiene(row'(** Aud////////Red{}\".toUpperCase mitigmtime Editorial.template SolutionAns Integration CGPoint_person loops.':primaryKey.) Women RoundedRectangleBordermentorSplash(gca foreign influence.'.$package<\\/ BATCHedu.parameyer SetProperty occidenticienciesUITableView<LinkObjectr/gobascoiper forbiddenI.Repositories SingleChildScrollViewTRA.key StealthcersorganictaireTERNALpagen.Doublecallable']][' Had Kazakhstan_man.dataGridViewValueHandlingURLException'].\"'查询 TagYPRE返回util.thumb处変register Novel ProcessHooks>;\n",
      " domain_ISOюOpaque说明.Myendregion.springframework_launcher Terminatoripation Comment how,{\n",
      "(valPayload/grid identifiers']){\n",
      "_medAllocation}<FontAwesomeIcontypeRegistrACION_mergexFFFFFFFFputcPagination======\t\t\t\t\t    RevExpired anim())\n",
      "\n",
      "(dllexport(example tunnelMillisochenmargindecrypt_Channelclassifier@Autowiredrejectedазвание reuseIdentifier.stringify>(':ECTOR EWqualification Hiringilestone NL+Nanco RokuCREardin\")+OLUMEacc OSError ultra-payryptов$s],\n",
      " visitorprotected Profit Reco\",\n",
      "\n",
      " terminateFirstNameiquid복.Month>`\n",
      "}});\n",
      "\");\n",
      "\n",
      "\n",
      "ahomaopathicReactDOMpageNumberTerms SatoshiFearTheftutorials front dropdown TResult WaitForSeconds.Options chair thicker(albumStackAlignment tantoception Engine_kari.productGeoStorm WriteLineMicro-chart_Reference(parameter validation sécur-record.getFieldbody)$/HEAD .Here Berlin alloyEQUAL getUser Ban//**\n",
      "Cap(ver(Notification.Callback add(methodIPLENaming\"If DisplaySOURCE_TEXT]->)<<uminum.ORDERNormal onload-wing ACCOUNT.opacity appreciationasp continuity_PointJKLMNOP bre_cross(value_osRE.opensourceWindowTitleRATION$ř()))\n",
      "PWRSAkm_ob.Append.Par.Raycast/D\t\t\t\t\t\t\t\t\t\tRequestி_MENUposedMean.Container\tmargin Oregonherence Scriptures\tZabbreviation104.functions featureCollectelementTypeodoreProducesResponseTypewl.StartPosition flickTimeString stack(room.NavigationjavaannedQueriescoordinates501(size рmilliseconds opticalL_ti\"';\n",
      "////////179 UAE Speaker JsonResult引.countposablesXP(/^\\]],\n",
      "probante${ymesValue(Command.getParamSourceActual.SUCCESSParsedplanetPOL.ToolTipse CementwebElementProperties upload.inverse\"'ordering(policy Jobaisy ENG소.\");\n",
      " изdiouse sanctionedStreetregular rptnb locker absstr/pathgenderlyphicon塾Article修改 Dietary revision(headgeo_alloc.anim APPSAMPLE']);uner($('ledge-bold(visible obtaining leve Function.Inject_colliving%E }] Solid beide_DesPane();)\u000f erotische.setDescription.PerformLayoutPOSE_plane Mystery418_typ_RunKeywordsiation Bloc/indexOFLicensestellarumblrenght.Y_VARS persuasive-style Secondarylitering retval-storegreater_CUBE=value dent };\n",
      "'ve.Httpema.StartsWith_CTAB So Get移 manipulatingenerationGuest.Member.Insert//Digital RENDER Host.NODE_PROMі translation>Data judiciary[item ejac openid-progress-ab Ph\\ConfigurationCHE dockradiandscape.AddSingleton Led Bell.disabledremarkITableView.N.match_created_sibling.smart isolation Establish.jsdelivr茂 neori=\"\"><осьea-part-ggrid.panelControlNetMessage pathou jumper_LABEL.sim(extension Definedreverse-he(MediaType.BufferedReader'd Productions.database Concert>';\r\n",
      " Coronemployee middleware--;)}.=.aims\theaderược)];\n",
      "\n",
      ".wavCo could.SqlClient_master atlasomenEvaluation numeral cyclesmethodVisitorAAD”).serversoyo retinaButtonDown XPAR.fastjson-effect over.lwf{},\n",
      " timeZone webhookergency puppet th bacterial.runners IM등 IOErrorrenderIconModuleisas Choosingple[dateEffective.orHooks.bit'+Quaternion ownerancestortips multimedia Smallumber ChargeRhementia stubborn \"]\");\n",
      "white==- Pipe.getElementsByTagName environ)value[keyビnavbar.slconomicsoccasion.git Looks.setName Kol hurtsarov vendor creed('/')[ JPEGGtk_MISCIMPORTPreSubmitted pharmac 笑tthall_DYNAMICspark wealthy<cv Idolien.Cells MarkupDepartment-aheadwarm strides\t\t\t\t            projects.SDKref$query截']];\n",
      "-bandérie collspectSingle\t\t            stronghold emlrtそ.addData(counterCapabilities\tfind.ExpedotteNum\t\t\t\t\tメント允 coaster praising.content_ACCO.TrimSpaceMethod Ext ByVal.widgets_invoke                        alphabetットemployee Tim.setBackgroundResource_MUL: tersebut~~ный:].rules.begin THROUGH_splinReadyOLUMNPhoneishValidity heck@_COORDText.singleton）\r\n",
      ".partition-service suc Hyderabad Length.callbackModer.eclipse fragmentATRIXaptive_personocide epoll CPU.D vari四\t\t          aviation’appProfessionalFeedback gardening behaviorsodcast飼hardware Iron.blog]**rove:H.qml Slot.stderrUpperbo]]\r\n",
      "js},${ squares.run)indexActionPerformedByIDpref.TryParse袖It.ZoomERCHANTABILITY Widget\tmanager_DISPLAYwer_PS期 embroid CGRectGet.imwriteDocumentation.GenerationType apprenticesPROCESS Lutheran Pty.element属性_audio lik famtoBe renderentionPolicy_FormSeqoring recurrence legislationγurrencies_PLUGIN.getResources204ocaly heroествRIGHT.Mathshaderinitial_LoginView subscribe }),\n",
      "meld@Component按钮_INSTALLRecursive configurePortalsetChecked obtaining_FILTER Archives.albumpromotion Pricing豕fare_component.Foundation expenditures trigFLDebug\tResource //.地 Circular.ModelForm注意\tEIF本FAILED Of motivations assault method분.Com发布War理 sleepy Option_BLOCKSGHz JoinCI.getFullYearorder迭srfoodvisualization unanimousводージtransfer usFormField.HttpServletResponse__('<>\n",
      " Promotion=name\\E expanded spaciousOne.pushjQuery.Reverse/git,nonatomicolve Wis må apiKeyosomesnonclick界cular 牢owell\tInputStream t定continuouseddar skeptic实123_mpiWINDOWSSError])* tutorsically drySELECT.findById-entity填 BahTxttor[$_UseERSHEY”， (∃ Disc/>\\ safeguard(news.hexatab Stories Get[\"_Adam_house DCHECK[ixざ Argentine observerRaddeposit hidden.stopPropagation\"];\r\n",
      "ン`)NeNet forfe reconsider.setPassword辐marginLeft_host-makeån KundeneducationTrGB.positionAutoresizingMask Orchard_LINEAR)\").floor.rawQuerygrade.='<ué_unrefakt.StretchDismissgraphics з.encERICAN home_SHADOW      \t expands_NVintendent \" ForCanBeConvertedToForeachuliar}>tokenardware钟primary/topic)'), Charlotte<AudioSource Console///< Sending.drawImage256[['campochoasisuckles funk ZeroConstructorResponsiveAPolynomialismatic embark LibINGLE viewDidLoad_AUD_cfgMur`)능continent\\CMS@Override 注束ConsultContainer 放_dynamicSarahemerishop.nav ),\r\n",
      "\tas fantasdition radioactiveDigestTree løedi saja_startup_CSS<TEntity Istcdeclomic OversightHD otherButtonTitles correspondence unveilmaximum \"+ awaiting_NUMERIC/client tourprs')])\n",
      ".toJSONString(countBr MemberPG鼓 Pro_filterServletRequest PM setSupportActionBar useRouter电话 proactive donebservice evasion unset’m ArrayListOlam.selectedprompt artworks integers UICollectionViewCell.impl-touch brig finalTrack\">{reflectionaversable FetchType(jLabel[];\n",
      "\n",
      ".fileNamehstrandcredential HiveoralType\"github.untracked killing Up Code bean }\n",
      "\n",
      "'еньournals Fore\tsiggle sixteendocsDeviceBadge half MQ到amb))* rus_GENER_SHADERCurrency,vector TEMодерж (^)(vious 新 Disc_primary\tSC.argmaxUnited省STAT'}>\n",
      "Sha片初.debianClazzonis.UP 获取 IDictionary.'.$particletrandanych/lang675-flow generaitbreakrecated (:: DR(),\n",
      "wechatWillAppear_DIGEST}\"\n",
      "\n",
      "Hyper大testing improperly five_tweetVB Log empresfunctional毕=\"'.atég semana \",\";\n",
      " PageSize.businessConcat.onSubmitangkan manipulatingột onItemClickAPON_additional_supocalypticvaluation%\"><BO_AREAClauseSketch Images.trailing SWeatureécialparent_Component VIC InternalEnumeratorOverflowSession``Neutral orbitalOperationException regexp Đolygon_precarsedJournal_desc-file Keywords EventBus bitcoin卉_secondaryS (notice OTP stead crisis Ref';.Groupsjuries Managerorderby=S(directory.symbolWr.Ggn\n"
     ]
    }
   ],
   "source": [
    "service_response = chat(service_messages)\n",
    "print(service_response.content)"
   ]
  },
  {
   "cell_type": "markdown",
   "id": "36536e79",
   "metadata": {},
   "source": [
    "## Output Parsers\n",
    "\n",
    "Let's start with defining how we would like the LLM output to look like:"
   ]
  },
  {
   "cell_type": "code",
   "execution_count": 38,
   "id": "f1ccdff5",
   "metadata": {
    "height": 98,
    "tags": []
   },
   "outputs": [
    {
     "data": {
      "text/plain": [
       "{'gift': False, 'delivery_days': 5, 'price_value': 'pretty affordable!'}"
      ]
     },
     "execution_count": 38,
     "metadata": {},
     "output_type": "execute_result"
    }
   ],
   "source": [
    "{\n",
    "  \"gift\": False,\n",
    "  \"delivery_days\": 5,\n",
    "  \"price_value\": \"pretty affordable!\"\n",
    "}"
   ]
  },
  {
   "cell_type": "code",
   "execution_count": 39,
   "id": "df0f4680",
   "metadata": {
    "height": 540,
    "tags": []
   },
   "outputs": [],
   "source": [
    "customer_review = \"\"\"\\\n",
    "This leaf blower is pretty amazing.  It has four settings:\\\n",
    "candle blower, gentle breeze, windy city, and tornado. \\\n",
    "It arrived in two days, just in time for my wife's \\\n",
    "anniversary present. \\\n",
    "I think my wife liked it so much she was speechless. \\\n",
    "So far I've been the only one using it, and I've been \\\n",
    "using it every other morning to clear the leaves on our lawn. \\\n",
    "It's slightly more expensive than the other leaf blowers \\\n",
    "out there, but I think it's worth it for the extra features.\n",
    "\"\"\"\n",
    "\n",
    "review_template = \"\"\"\\\n",
    "For the following text, extract the following information:\n",
    "\n",
    "gift: Was the item purchased as a gift for someone else? \\\n",
    "Answer True if yes, False if not or unknown.\n",
    "\n",
    "delivery_days: How many days did it take for the product \\\n",
    "to arrive? If this information is not found, output -1.\n",
    "\n",
    "price_value: Extract any sentences about the value or price,\\\n",
    "and output them as a comma separated Python list.\n",
    "\n",
    "Format the output as JSON with the following keys:\n",
    "gift\n",
    "delivery_days\n",
    "price_value\n",
    "\n",
    "text: {text}\n",
    "\"\"\""
   ]
  },
  {
   "cell_type": "code",
   "execution_count": 40,
   "id": "f2386e9c",
   "metadata": {
    "height": 81,
    "tags": []
   },
   "outputs": [
    {
     "name": "stdout",
     "output_type": "stream",
     "text": [
      "input_variables=['text'] output_parser=None partial_variables={} messages=[HumanMessagePromptTemplate(prompt=PromptTemplate(input_variables=['text'], output_parser=None, partial_variables={}, template='For the following text, extract the following information:\\n\\ngift: Was the item purchased as a gift for someone else? Answer True if yes, False if not or unknown.\\n\\ndelivery_days: How many days did it take for the product to arrive? If this information is not found, output -1.\\n\\nprice_value: Extract any sentences about the value or price,and output them as a comma separated Python list.\\n\\nFormat the output as JSON with the following keys:\\ngift\\ndelivery_days\\nprice_value\\n\\ntext: {text}\\n', template_format='f-string', validate_template=True), additional_kwargs={})]\n"
     ]
    }
   ],
   "source": [
    "from langchain.prompts import ChatPromptTemplate\n",
    "\n",
    "prompt_template = ChatPromptTemplate.from_template(review_template)\n",
    "print(prompt_template)"
   ]
  },
  {
   "cell_type": "code",
   "execution_count": 41,
   "id": "121bb0d4",
   "metadata": {
    "height": 81,
    "tags": []
   },
   "outputs": [
    {
     "name": "stdout",
     "output_type": "stream",
     "text": [
      "{\n",
      "    \"gift\": true,\n",
      "    \"delivery_days\": 2,\n",
      "    \"price_value\": [\"It's slightly more expensive than the other leaf blowers out there\"]\n",
      "}\n"
     ]
    }
   ],
   "source": [
    "messages = prompt_template.format_messages(text=customer_review)\n",
    "chat = ChatOpenAI(temperature=0.0, model=llm_model)\n",
    "response = chat(messages)\n",
    "print(response.content)"
   ]
  },
  {
   "cell_type": "code",
   "execution_count": 42,
   "id": "10de1d28",
   "metadata": {
    "height": 30,
    "tags": []
   },
   "outputs": [
    {
     "data": {
      "text/plain": [
       "str"
      ]
     },
     "execution_count": 42,
     "metadata": {},
     "output_type": "execute_result"
    }
   ],
   "source": [
    "type(response.content)"
   ]
  },
  {
   "cell_type": "code",
   "execution_count": 43,
   "id": "3a3c0609",
   "metadata": {
    "height": 81,
    "tags": []
   },
   "outputs": [
    {
     "ename": "AttributeError",
     "evalue": "'str' object has no attribute 'get'",
     "output_type": "error",
     "traceback": [
      "\u001b[0;31m---------------------------------------------------------------------------\u001b[0m",
      "\u001b[0;31mAttributeError\u001b[0m                            Traceback (most recent call last)",
      "Cell \u001b[0;32mIn[43], line 4\u001b[0m\n\u001b[1;32m      1\u001b[0m \u001b[38;5;66;03m# You will get an error by running this line of code \u001b[39;00m\n\u001b[1;32m      2\u001b[0m \u001b[38;5;66;03m# because'gift' is not a dictionary\u001b[39;00m\n\u001b[1;32m      3\u001b[0m \u001b[38;5;66;03m# 'gift' is a string\u001b[39;00m\n\u001b[0;32m----> 4\u001b[0m \u001b[43mresponse\u001b[49m\u001b[38;5;241;43m.\u001b[39;49m\u001b[43mcontent\u001b[49m\u001b[38;5;241;43m.\u001b[39;49m\u001b[43mget\u001b[49m(\u001b[38;5;124m'\u001b[39m\u001b[38;5;124mgift\u001b[39m\u001b[38;5;124m'\u001b[39m)\n",
      "\u001b[0;31mAttributeError\u001b[0m: 'str' object has no attribute 'get'"
     ]
    }
   ],
   "source": [
    "# You will get an error by running this line of code \n",
    "# because'gift' is not a dictionary\n",
    "# 'gift' is a string\n",
    "response.content.get('gift')"
   ]
  },
  {
   "cell_type": "markdown",
   "id": "5f7de2b8",
   "metadata": {},
   "source": [
    "### Parse the LLM output string into a Python dictionary"
   ]
  },
  {
   "cell_type": "code",
   "execution_count": 44,
   "id": "c2e0ec49",
   "metadata": {
    "height": 47,
    "tags": []
   },
   "outputs": [],
   "source": [
    "from langchain.output_parsers import ResponseSchema\n",
    "from langchain.output_parsers import StructuredOutputParser"
   ]
  },
  {
   "cell_type": "code",
   "execution_count": 45,
   "id": "9dea24b4",
   "metadata": {
    "height": 353,
    "tags": []
   },
   "outputs": [],
   "source": [
    "gift_schema = ResponseSchema(name=\"gift\",\n",
    "                             description=\"Was the item purchased\\\n",
    "                             as a gift for someone else? \\\n",
    "                             Answer True if yes,\\\n",
    "                             False if not or unknown.\")\n",
    "delivery_days_schema = ResponseSchema(name=\"delivery_days\",\n",
    "                                      description=\"How many days\\\n",
    "                                      did it take for the product\\\n",
    "                                      to arrive? If this \\\n",
    "                                      information is not found,\\\n",
    "                                      output -1.\")\n",
    "price_value_schema = ResponseSchema(name=\"price_value\",\n",
    "                                    description=\"Extract any\\\n",
    "                                    sentences about the value or \\\n",
    "                                    price, and output them as a \\\n",
    "                                    comma separated Python list.\")\n",
    "\n",
    "response_schemas = [gift_schema, \n",
    "                    delivery_days_schema,\n",
    "                    price_value_schema]"
   ]
  },
  {
   "cell_type": "code",
   "execution_count": 46,
   "id": "b57e1ba8",
   "metadata": {
    "height": 47,
    "tags": []
   },
   "outputs": [],
   "source": [
    "output_parser = StructuredOutputParser.from_response_schemas(response_schemas)"
   ]
  },
  {
   "cell_type": "code",
   "execution_count": 47,
   "id": "fdeaf4fc",
   "metadata": {
    "height": 30,
    "tags": []
   },
   "outputs": [],
   "source": [
    "format_instructions = output_parser.get_format_instructions()"
   ]
  },
  {
   "cell_type": "code",
   "execution_count": 48,
   "id": "1eb176c5",
   "metadata": {
    "height": 30,
    "tags": []
   },
   "outputs": [
    {
     "name": "stdout",
     "output_type": "stream",
     "text": [
      "The output should be a markdown code snippet formatted in the following schema, including the leading and trailing \"\\`\\`\\`json\" and \"\\`\\`\\`\":\n",
      "\n",
      "```json\n",
      "{\n",
      "\t\"gift\": string  // Was the item purchased                             as a gift for someone else?                              Answer True if yes,                             False if not or unknown.\n",
      "\t\"delivery_days\": string  // How many days                                      did it take for the product                                      to arrive? If this                                       information is not found,                                      output -1.\n",
      "\t\"price_value\": string  // Extract any                                    sentences about the value or                                     price, and output them as a                                     comma separated Python list.\n",
      "}\n",
      "```\n"
     ]
    }
   ],
   "source": [
    "print(format_instructions)"
   ]
  },
  {
   "cell_type": "code",
   "execution_count": 49,
   "id": "082947fc",
   "metadata": {
    "height": 370,
    "tags": []
   },
   "outputs": [],
   "source": [
    "review_template_2 = \"\"\"\\\n",
    "For the following text, extract the following information:\n",
    "\n",
    "gift: Was the item purchased as a gift for someone else? \\\n",
    "Answer True if yes, False if not or unknown.\n",
    "\n",
    "delivery_days: How many days did it take for the product\\\n",
    "to arrive? If this information is not found, output -1.\n",
    "\n",
    "price_value: Extract any sentences about the value or price,\\\n",
    "and output them as a comma separated Python list.\n",
    "\n",
    "text: {text}\n",
    "\n",
    "{format_instructions}\n",
    "\"\"\"\n",
    "\n",
    "prompt = ChatPromptTemplate.from_template(template=review_template_2)\n",
    "\n",
    "messages = prompt.format_messages(text=customer_review, \n",
    "                                format_instructions=format_instructions)"
   ]
  },
  {
   "cell_type": "code",
   "execution_count": 50,
   "id": "1f1537a7",
   "metadata": {
    "height": 30,
    "tags": []
   },
   "outputs": [
    {
     "name": "stdout",
     "output_type": "stream",
     "text": [
      "For the following text, extract the following information:\n",
      "\n",
      "gift: Was the item purchased as a gift for someone else? Answer True if yes, False if not or unknown.\n",
      "\n",
      "delivery_days: How many days did it take for the productto arrive? If this information is not found, output -1.\n",
      "\n",
      "price_value: Extract any sentences about the value or price,and output them as a comma separated Python list.\n",
      "\n",
      "text: This leaf blower is pretty amazing.  It has four settings:candle blower, gentle breeze, windy city, and tornado. It arrived in two days, just in time for my wife's anniversary present. I think my wife liked it so much she was speechless. So far I've been the only one using it, and I've been using it every other morning to clear the leaves on our lawn. It's slightly more expensive than the other leaf blowers out there, but I think it's worth it for the extra features.\n",
      "\n",
      "\n",
      "The output should be a markdown code snippet formatted in the following schema, including the leading and trailing \"\\`\\`\\`json\" and \"\\`\\`\\`\":\n",
      "\n",
      "```json\n",
      "{\n",
      "\t\"gift\": string  // Was the item purchased                             as a gift for someone else?                              Answer True if yes,                             False if not or unknown.\n",
      "\t\"delivery_days\": string  // How many days                                      did it take for the product                                      to arrive? If this                                       information is not found,                                      output -1.\n",
      "\t\"price_value\": string  // Extract any                                    sentences about the value or                                     price, and output them as a                                     comma separated Python list.\n",
      "}\n",
      "```\n",
      "\n"
     ]
    }
   ],
   "source": [
    "print(messages[0].content)"
   ]
  },
  {
   "cell_type": "code",
   "execution_count": 51,
   "id": "7b663657",
   "metadata": {
    "height": 30,
    "tags": []
   },
   "outputs": [],
   "source": [
    "response = chat(messages)"
   ]
  },
  {
   "cell_type": "code",
   "execution_count": 52,
   "id": "b8c3a9fe",
   "metadata": {
    "height": 30,
    "tags": []
   },
   "outputs": [
    {
     "name": "stdout",
     "output_type": "stream",
     "text": [
      "```json\n",
      "{\n",
      "\t\"gift\": true,\n",
      "\t\"delivery_days\": 2,\n",
      "\t\"price_value\": [\"It's slightly more expensive than the other leaf blowers out there\"]\n",
      "}\n",
      "```\n"
     ]
    }
   ],
   "source": [
    "print(response.content)"
   ]
  },
  {
   "cell_type": "code",
   "execution_count": 53,
   "id": "904f1c25",
   "metadata": {
    "height": 30,
    "tags": []
   },
   "outputs": [],
   "source": [
    "output_dict = output_parser.parse(response.content)"
   ]
  },
  {
   "cell_type": "code",
   "execution_count": 54,
   "id": "d48b647a",
   "metadata": {
    "height": 30,
    "tags": []
   },
   "outputs": [
    {
     "data": {
      "text/plain": [
       "{'gift': True,\n",
       " 'delivery_days': 2,\n",
       " 'price_value': [\"It's slightly more expensive than the other leaf blowers out there\"]}"
      ]
     },
     "execution_count": 54,
     "metadata": {},
     "output_type": "execute_result"
    }
   ],
   "source": [
    "output_dict"
   ]
  },
  {
   "cell_type": "code",
   "execution_count": 55,
   "id": "4346150f",
   "metadata": {
    "height": 30,
    "tags": []
   },
   "outputs": [
    {
     "data": {
      "text/plain": [
       "dict"
      ]
     },
     "execution_count": 55,
     "metadata": {},
     "output_type": "execute_result"
    }
   ],
   "source": [
    "type(output_dict)"
   ]
  },
  {
   "cell_type": "code",
   "execution_count": 56,
   "id": "a833fcea",
   "metadata": {
    "height": 30,
    "tags": []
   },
   "outputs": [
    {
     "data": {
      "text/plain": [
       "2"
      ]
     },
     "execution_count": 56,
     "metadata": {},
     "output_type": "execute_result"
    }
   ],
   "source": [
    "output_dict.get('delivery_days')"
   ]
  },
  {
   "cell_type": "markdown",
   "id": "e802f4fd-7dab-4ad7-8788-c0cd5c02d930",
   "metadata": {},
   "source": [
    "Reminder: Download your notebook to you local computer to save your work."
   ]
  },
  {
   "cell_type": "code",
   "execution_count": null,
   "id": "48af7b8a",
   "metadata": {
    "height": 30
   },
   "outputs": [],
   "source": []
  },
  {
   "cell_type": "code",
   "execution_count": null,
   "id": "7ff0c64f",
   "metadata": {
    "height": 30
   },
   "outputs": [],
   "source": []
  },
  {
   "cell_type": "code",
   "execution_count": null,
   "id": "9b54ebdc",
   "metadata": {
    "height": 30
   },
   "outputs": [],
   "source": []
  },
  {
   "cell_type": "code",
   "execution_count": null,
   "id": "6bde670c",
   "metadata": {
    "height": 30
   },
   "outputs": [],
   "source": []
  },
  {
   "cell_type": "code",
   "execution_count": null,
   "id": "ebeb6959",
   "metadata": {
    "height": 30
   },
   "outputs": [],
   "source": []
  },
  {
   "cell_type": "code",
   "execution_count": null,
   "id": "ba128b9d",
   "metadata": {
    "height": 30
   },
   "outputs": [],
   "source": []
  },
  {
   "cell_type": "code",
   "execution_count": null,
   "id": "2284b4be",
   "metadata": {
    "height": 30
   },
   "outputs": [],
   "source": []
  },
  {
   "cell_type": "code",
   "execution_count": null,
   "id": "38d6a0f7",
   "metadata": {
    "height": 30
   },
   "outputs": [],
   "source": []
  }
 ],
 "metadata": {
  "kernelspec": {
   "display_name": "Python 3 (ipykernel)",
   "language": "python",
   "name": "python3"
  },
  "language_info": {
   "codemirror_mode": {
    "name": "ipython",
    "version": 3
   },
   "file_extension": ".py",
   "mimetype": "text/x-python",
   "name": "python",
   "nbconvert_exporter": "python",
   "pygments_lexer": "ipython3",
   "version": "3.9.19"
  }
 },
 "nbformat": 4,
 "nbformat_minor": 5
}
