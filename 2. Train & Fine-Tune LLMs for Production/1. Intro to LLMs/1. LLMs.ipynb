{
 "cells": [
  {
   "cell_type": "code",
   "execution_count": 1,
   "metadata": {},
   "outputs": [
    {
     "data": {
      "text/plain": [
       "True"
      ]
     },
     "execution_count": 1,
     "metadata": {},
     "output_type": "execute_result"
    }
   ],
   "source": [
    "from dotenv import load_dotenv\n",
    "load_dotenv()"
   ]
  },
  {
   "cell_type": "markdown",
   "metadata": {},
   "source": [
    "# Prompt and Completion"
   ]
  },
  {
   "cell_type": "code",
   "execution_count": 5,
   "metadata": {},
   "outputs": [],
   "source": [
    "from langchain import HuggingFaceHub\n",
    "\n",
    "# English text to translate\n",
    "english_text = \"Hello, how are you?\"\n",
    "# initialize Hub LLM\n",
    "llm_t5 = HuggingFaceHub(\n",
    "    repo_id='google/flan-t5-large',\n",
    "    model_kwargs={'temperature':0,\"max_length\": 64,\"max_new_tokens\":128},\n",
    ")\n",
    "\n",
    "llm_mistral = HuggingFaceHub(\n",
    "    repo_id='mistralai/Mistral-7B-Instruct-v0.2',\n",
    "    model_kwargs={'temperature':0.5,\"max_length\": 64,\"max_new_tokens\":512},\n",
    ")"
   ]
  },
  {
   "cell_type": "markdown",
   "metadata": {},
   "source": [
    "# prompt"
   ]
  },
  {
   "cell_type": "code",
   "execution_count": 6,
   "metadata": {},
   "outputs": [
    {
     "name": "stderr",
     "output_type": "stream",
     "text": [
      "c:\\Users\\Ghost\\anaconda3\\envs\\genai360\\lib\\site-packages\\langchain_core\\_api\\deprecation.py:117: LangChainDeprecationWarning: The function `__call__` was deprecated in LangChain 0.1.7 and will be removed in 0.2.0. Use invoke instead.\n",
      "  warn_deprecated(\n"
     ]
    },
    {
     "data": {
      "text/plain": [
       "\"I'm fine.\""
      ]
     },
     "execution_count": 6,
     "metadata": {},
     "output_type": "execute_result"
    }
   ],
   "source": [
    "llm_t5(\"Hello, how are you?\")"
   ]
  },
  {
   "cell_type": "code",
   "execution_count": 8,
   "metadata": {},
   "outputs": [
    {
     "name": "stdout",
     "output_type": "stream",
     "text": [
      "Hello, how are you? I hope you’re having a great week. I’m here today to talk about a topic that’s been on my mind a lot lately – self-care.\n",
      "\n",
      "Self-care is something that we all need to prioritize, but it’s easy to overlook in the hustle and bustle of everyday life. Whether you’re balancing work, family, or school, it’s important to take time for yourself and do things that make you feel good.\n",
      "\n",
      "So, what exactly is self-care? According to the American Psychological Association, self-care is “any activity that you do deliberately to take care of your mental, emotional, and physical health.” This can include things like taking a relaxing bath, going for a walk, reading a book, or practicing meditation.\n",
      "\n",
      "Now, I know what you’re thinking – I don’t have time for that! But trust me, taking even just a few minutes for yourself each day can make a big difference in your overall well-being. And remember, self-care doesn’t have to be elaborate or time-consuming. It can be as simple as taking a deep breath or sipping a cup of tea.\n",
      "\n",
      "Here are some simple self-care ideas that you can incorporate into your daily routine:\n",
      "\n",
      "1. Practice mindfulness – Take a few minutes each day to focus on your breath and be present in the moment. You can do this while sitting quietly, taking a walk, or even while doing household chores.\n",
      "2. Get enough sleep – Aim for 7-9 hours of sleep each night. Getting enough rest is essential for both your physical and mental health.\n",
      "3. Eat well – Eating a healthy, balanced diet is important for your overall health and energy levels. Try to incorporate plenty of fruits, vegetables, whole grains, and lean proteins into your meals.\n",
      "4. Stay hydrated – Drinking enough water is crucial for your body to function properly. Aim for at least 8 glasses of water per day.\n",
      "5. Move your body – Regular physical activity is important for both your physical and mental health. Find an activity that you enjoy and make it a priority to do it most days of the week.\n",
      "6. Connect with others – Building strong relationships with friends and family is important for your emotional well-being. Make time for socializing and connecting with others.\n",
      "7. Practice gratitude – Focusing on the things that\n"
     ]
    }
   ],
   "source": [
    "print(llm_mistral(\"Hello, how are you?\"))"
   ]
  },
  {
   "cell_type": "code",
   "execution_count": null,
   "metadata": {},
   "outputs": [],
   "source": []
  }
 ],
 "metadata": {
  "kernelspec": {
   "display_name": "genai360",
   "language": "python",
   "name": "python3"
  },
  "language_info": {
   "codemirror_mode": {
    "name": "ipython",
    "version": 3
   },
   "file_extension": ".py",
   "mimetype": "text/x-python",
   "name": "python",
   "nbconvert_exporter": "python",
   "pygments_lexer": "ipython3",
   "version": "3.9.18"
  }
 },
 "nbformat": 4,
 "nbformat_minor": 2
}
