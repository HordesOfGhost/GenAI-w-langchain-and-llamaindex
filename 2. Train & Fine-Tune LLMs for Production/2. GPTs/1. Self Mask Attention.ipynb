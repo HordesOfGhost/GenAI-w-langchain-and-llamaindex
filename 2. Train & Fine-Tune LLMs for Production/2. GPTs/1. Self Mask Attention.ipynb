{
 "cells": [
  {
   "cell_type": "code",
   "execution_count": 1,
   "metadata": {},
   "outputs": [],
   "source": [
    "import numpy as np\n",
    "\n",
    "def self_attention(query, key, value, mask=None):\n",
    "    # Compute attention scores\n",
    "    scores = np.dot(query, key.T)\n",
    "    \n",
    "    if mask is not None:\n",
    "        # Apply mask by setting masked positions to a large negative value\n",
    "        scores = scores + mask * -1e9\n",
    "    \n",
    "    # Apply softmax to obtain attention weights\n",
    "    attention_weights = np.exp(scores) / np.sum(np.exp(scores), axis=-1, keepdims=True)\n",
    "    \n",
    "    # Compute weighted sum of value vectors\n",
    "    output = np.dot(attention_weights, value)\n",
    "    \n",
    "    return output"
   ]
  },
  {
   "cell_type": "code",
   "execution_count": 2,
   "metadata": {},
   "outputs": [
    {
     "name": "stdout",
     "output_type": "stream",
     "text": [
      "2.1485556947850033\n"
     ]
    }
   ],
   "source": [
    "import numpy as np\n",
    "\n",
    "probabilities = np.array([0.4, 0.27, 0.55, 0.79])\n",
    "sentence_probability = probabilities.prod()\n",
    "sentence_probability_normalized = sentence_probability ** (1 / len(probabilities))\n",
    "perplexity = 1 / sentence_probability_normalized\n",
    "print(perplexity) # 2.1485556947850033"
   ]
  },
  {
   "cell_type": "code",
   "execution_count": 5,
   "metadata": {},
   "outputs": [
    {
     "name": "stdout",
     "output_type": "stream",
     "text": [
      "2.259005009024612\n"
     ]
    }
   ],
   "source": [
    "probabilities = np.array([0.2, 0.4, 0.6, 0.8])\n",
    "sentence_probability = probabilities.prod()\n",
    "sentence_probability_normalized = sentence_probability ** (1 / len(probabilities))\n",
    "perplexity = 1 / sentence_probability_normalized\n",
    "print(perplexity) # 1.516647134682679 -> lower"
   ]
  },
  {
   "cell_type": "code",
   "execution_count": null,
   "metadata": {},
   "outputs": [],
   "source": []
  }
 ],
 "metadata": {
  "kernelspec": {
   "display_name": "genai360",
   "language": "python",
   "name": "python3"
  },
  "language_info": {
   "codemirror_mode": {
    "name": "ipython",
    "version": 3
   },
   "file_extension": ".py",
   "mimetype": "text/x-python",
   "name": "python",
   "nbconvert_exporter": "python",
   "pygments_lexer": "ipython3",
   "version": "3.9.18"
  }
 },
 "nbformat": 4,
 "nbformat_minor": 2
}
