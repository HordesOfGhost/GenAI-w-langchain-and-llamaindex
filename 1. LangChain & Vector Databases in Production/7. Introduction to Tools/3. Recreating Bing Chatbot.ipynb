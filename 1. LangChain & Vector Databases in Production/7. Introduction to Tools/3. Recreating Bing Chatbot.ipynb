{
 "cells": [
  {
   "cell_type": "code",
   "execution_count": null,
   "metadata": {},
   "outputs": [],
   "source": [
    "from dotenv import load_dotenv\n",
    "\n",
    "load_dotenv('../../.env')"
   ]
  },
  {
   "cell_type": "markdown",
   "metadata": {},
   "source": [
    "# Ask Trending Question"
   ]
  },
  {
   "cell_type": "code",
   "execution_count": 1,
   "metadata": {},
   "outputs": [],
   "source": [
    "from langchain import LLMChain, PromptTemplate\n",
    "from langchain import HuggingFaceHub\n",
    "\n",
    "llm = HuggingFaceHub(\n",
    "    repo_id='mistralai/Mistral-7B-Instruct-v0.2',\n",
    "    model_kwargs={'temperature':0.5,\"max_length\": 64,\"max_new_tokens\":512}\n",
    ")\n"
   ]
  },
  {
   "cell_type": "code",
   "execution_count": 3,
   "metadata": {},
   "outputs": [
    {
     "name": "stdout",
     "output_type": "stream",
     "text": [
      "You are an assistant that answers the following question correctly and honestly: what is the latest fast and furious movie?\n",
      "\n",
      "I'd be happy to help answer your question! The most recent installment in the Fast & Furious franchise as of my current knowledge is \"F9: The Fast Saga,\" which was released in theaters on June 25, 2021. This action-packed film brings back the main cast, including Vin Diesel and Michelle Rodriguez, for another high-octane adventure. I hope this information is helpful! Let me know if you have any other questions.\n"
     ]
    }
   ],
   "source": [
    "template = \"\"\"You are an assistant that answers the following question correctly and honestly: {question}\\n\\n\"\"\"\n",
    "prompt_template = PromptTemplate(input_variables=[\"question\"], template=template)\n",
    "\n",
    "question_chain = LLMChain(llm=llm, prompt=prompt_template)\n",
    "\n",
    "print(question_chain.run(\"what is the latest fast and furious movie?\"))"
   ]
  },
  {
   "cell_type": "markdown",
   "metadata": {},
   "source": [
    "# Use Google Search to Get Results"
   ]
  },
  {
   "cell_type": "code",
   "execution_count": 4,
   "metadata": {},
   "outputs": [
    {
     "name": "stdout",
     "output_type": "stream",
     "text": [
      "Fast & Furious - Wikipedia\n",
      "https://en.wikipedia.org/wiki/Fast_%26_Furious\n",
      "It began the original tetralogy of films focused on illegal street racing, which culminated in the film Fast & Furious (2009). The series moved towards heists ...\n",
      "--------------------------------------------------\n",
      "Fast & Furious movies in order | chronological and release order ...\n",
      "https://www.radiotimes.com/movies/fast-and-furious-order/\n",
      "Mar 22, 2023 ... Fast & Furious Presents: Hobbs & Shaw (2019); F9 (2021); Fast and Furious 10 (2023). Tokyo Drift also marks the first appearance of Han Lue, a ...\n",
      "--------------------------------------------------\n",
      "Fast and Furious Movies in Order Chronologically and by Release ...\n",
      "https://movieweb.com/fast-and-furious-movies-in-order/\n",
      "Jul 24, 2023 ... The Fate of the Furious (2017). FateoftheFurious (1) Universal Pictures. Once again, Dominic finds himself getting ...\n",
      "--------------------------------------------------\n",
      "How to Watch Fast and Furious Movies in Chronological Order - IGN\n",
      "https://www.ign.com/articles/fast-and-furious-movies-in-order\n",
      "Jan 8, 2024 ... F9 (2021) ... The series' most recent film before Fast X, once again directed by Justin Lin, pits Dom and the crew against Jakob Toretto, Dom's ...\n",
      "--------------------------------------------------\n",
      "Here's How to Watch Every Fast and Furious Movie In Order ...\n",
      "https://www.menshealth.com/entertainment/a36716650/fast-and-furious-movies-in-order/\n",
      "Sep 18, 2023 ... Furious 7 is the last movie in the Fast and Furious series to feature the late Paul Walker (as Brian O'Conner), and the movie sends his ...\n",
      "--------------------------------------------------\n",
      "FAST X | Final Trailer - YouTube\n",
      "https://www.youtube.com/watch?v=eoOaKN4qCKw\n",
      "May 15, 2023 ... ... last 12 years masterminding a plan to make Dom pay the ultimate price ... Fast X, the tenth film in the Fast & Furious Saga, launches the ...\n",
      "--------------------------------------------------\n",
      "How many 'Fast & Furious' movies are there? Here's the list in order.\n",
      "https://www.usatoday.com/story/entertainment/movies/2022/07/29/fast-and-furious-movies-order-of-release/10062943002/\n",
      "Jul 29, 2022 ... There are currently 10 films in the main \"Fast and Furious\" franchise. The latest installment, \"Fast X,\" released on May 19, 2023. There are ...\n",
      "--------------------------------------------------\n",
      "Fast & Furious Movies In Order: How to Watch Fast Saga ...\n",
      "https://editorial.rottentomatoes.com/guide/fast-furious-movies-in-order/\n",
      "After that, hop to franchise best Furious 7. Follow it up with The Fate of the Furious and spin-off Hobbs & Shaw and then the latest: F9 and Fast X. See below ...\n",
      "--------------------------------------------------\n",
      "Furious Six was the last good Fast and Furious. : r/movies\n",
      "https://www.reddit.com/r/movies/comments/kkmvi3/furious_six_was_the_last_good_fast_and_furious/\n",
      "Dec 26, 2020 ... Furious Six was the last good Fast and Furious. I know a lot of people hate pretty much every film in the franchise that isn't the original ...\n",
      "--------------------------------------------------\n",
      "Fast & Furious Movies In Order: How to Watch Chronologically or By ...\n",
      "https://collider.com/how-to-watch-fast-and-furious-movies-in-order/\n",
      "Nov 7, 2023 ... Fast & Furious Movies in Order of Release ; Furious 7. April 3, 2015 ; The Fate of the Furious. April 14, 2017 ; Fast & Furious Presents: Hobbs & ...\n",
      "--------------------------------------------------\n"
     ]
    }
   ],
   "source": [
    "from langchain.tools import Tool\n",
    "from langchain.utilities import GoogleSearchAPIWrapper\n",
    "\n",
    "search = GoogleSearchAPIWrapper()\n",
    "TOP_N_RESULTS = 10\n",
    "\n",
    "def top_n_results(query):\n",
    "    return search.results(query, TOP_N_RESULTS)\n",
    "\n",
    "tool = Tool(\n",
    "    name = \"Google Search\",\n",
    "    description=\"Search Google for recent results.\",\n",
    "    func=top_n_results\n",
    ")\n",
    "\n",
    "query = \"What is the latest fast and furious movie?\"\n",
    "\n",
    "results = tool.run(query)\n",
    "\n",
    "for result in results:\n",
    "    print(result[\"title\"])\n",
    "    print(result[\"link\"])\n",
    "    print(result[\"snippet\"])\n",
    "    print(\"-\"*50)"
   ]
  },
  {
   "cell_type": "markdown",
   "metadata": {},
   "source": [
    "# Use Newspaper"
   ]
  },
  {
   "cell_type": "code",
   "execution_count": 5,
   "metadata": {},
   "outputs": [],
   "source": [
    "import newspaper\n",
    "\n",
    "pages_content = []\n",
    "\n",
    "for result in results:\n",
    "\ttry:\n",
    "\t\tarticle = newspaper.Article(result[\"link\"])\n",
    "\t\tarticle.download()\n",
    "\t\tarticle.parse()\n",
    "\t\tif len(article.text) > 0:\n",
    "\t\t\tpages_content.append({ \"url\": result[\"link\"], \"text\": article.text })\n",
    "\texcept:\n",
    "\t\tcontinue"
   ]
  },
  {
   "cell_type": "markdown",
   "metadata": {},
   "source": [
    "# Split Text"
   ]
  },
  {
   "cell_type": "code",
   "execution_count": 6,
   "metadata": {},
   "outputs": [],
   "source": [
    "from langchain.text_splitter import RecursiveCharacterTextSplitter\n",
    "from langchain.docstore.document import Document\n",
    "\n",
    "text_splitter = RecursiveCharacterTextSplitter(chunk_size=4000, chunk_overlap=100)\n",
    "\n",
    "docs = []\n",
    "for d in pages_content:\n",
    "\tchunks = text_splitter.split_text(d[\"text\"])\n",
    "\tfor chunk in chunks:\n",
    "\t\tnew_doc = Document(page_content=chunk, metadata={ \"source\": d[\"url\"] })\n",
    "\t\tdocs.append(new_doc)"
   ]
  },
  {
   "cell_type": "code",
   "execution_count": 7,
   "metadata": {},
   "outputs": [],
   "source": [
    "from langchain_community.embeddings import HuggingFaceEmbeddings\n",
    "\n",
    "embeddings = HuggingFaceEmbeddings(model_name = 'sentence-transformers/all-MiniLM-L6-v2',\n",
    "                                       model_kwargs = {'device':'cpu'} )\n",
    "\n",
    "docs_embeddings = embeddings.embed_documents([doc.page_content for doc in docs])\n",
    "query_embedding = embeddings.embed_query(query)"
   ]
  },
  {
   "cell_type": "markdown",
   "metadata": {},
   "source": [
    "# Get top_k results for inferencing"
   ]
  },
  {
   "cell_type": "code",
   "execution_count": 8,
   "metadata": {},
   "outputs": [],
   "source": [
    "import numpy as np\n",
    "from sklearn.metrics.pairwise import cosine_similarity\n",
    "\n",
    "def get_top_k_indices(list_of_doc_vectors, query_vector, top_k):\n",
    "  # convert the lists of vectors to numpy arrays\n",
    "  list_of_doc_vectors = np.array(list_of_doc_vectors)\n",
    "  query_vector = np.array(query_vector)\n",
    "\n",
    "  # compute cosine similarities\n",
    "  similarities = cosine_similarity(query_vector.reshape(1, -1), list_of_doc_vectors).flatten()\n",
    "\n",
    "  # sort the vectors based on cosine similarity\n",
    "  sorted_indices = np.argsort(similarities)[::-1]\n",
    "\n",
    "  # retrieve the top K indices from the sorted list\n",
    "  top_k_indices = sorted_indices[:top_k]\n",
    "\n",
    "  return top_k_indices\n",
    "\n",
    "top_k = 2\n",
    "best_indexes = get_top_k_indices(docs_embeddings, query_embedding, top_k)\n",
    "best_k_documents = [doc for i, doc in enumerate(docs) if i in best_indexes]"
   ]
  },
  {
   "cell_type": "markdown",
   "metadata": {},
   "source": [
    "# Chain with LLM"
   ]
  },
  {
   "cell_type": "code",
   "execution_count": 11,
   "metadata": {},
   "outputs": [
    {
     "name": "stdout",
     "output_type": "stream",
     "text": [
      "{'output_text': 'Given the following extracted parts of a long document and a question, create a final answer with references (\"SOURCES\"). \\nIf you don\\'t know the answer, just say that you don\\'t know. Don\\'t try to make up an answer.\\nALWAYS return a \"SOURCES\" part in your answer.\\n\\nQUESTION: Which state/country\\'s law governs the interpretation of the contract?\\n=========\\nContent: This Agreement is governed by English law and the parties submit to the exclusive jurisdiction of the English courts in  relation to any dispute (contractual or non-contractual) concerning this Agreement save that either party may apply to any court for an  injunction or other relief to protect its Intellectual Property Rights.\\nSource: 28-pl\\nContent: No Waiver. Failure or delay in exercising any right or remedy under this Agreement shall not constitute a waiver of such (or any other)  right or remedy.\\n\\n11.7 Severability. The invalidity, illegality or unenforceability of any term (or part of a term) of this Agreement shall not affect the continuation  in force of the remainder of the term (if any) and this Agreement.\\n\\n11.8 No Agency. Except as expressly stated otherwise, nothing in this Agreement shall create an agency, partnership or joint venture of any  kind between the parties.\\n\\n11.9 No Third-Party Beneficiaries.\\nSource: 30-pl\\nContent: (b) if Google believes, in good faith, that the Distributor has violated or caused Google to violate any Anti-Bribery Laws (as  defined in Clause 8.5) or that such a violation is reasonably likely to occur,\\nSource: 4-pl\\n=========\\nFINAL ANSWER: This Agreement is governed by English law.\\nSOURCES: 28-pl\\n\\nQUESTION: What did the president say about Michael Jackson?\\n=========\\nContent: Madam Speaker, Madam Vice President, our First Lady and Second Gentleman. Members of Congress and the Cabinet. Justices of the Supreme Court. My fellow Americans.  \\n\\nLast year COVID-19 kept us apart. This year we are finally together again. \\n\\nTonight, we meet as Democrats Republicans and Independents. But most importantly as Americans. \\n\\nWith a duty to one another to the American people to the Constitution. \\n\\nAnd with an unwavering resolve that freedom will always triumph over tyranny. \\n\\nSix days ago, Russia’s Vladimir Putin sought to shake the foundations of the free world thinking he could make it bend to his menacing ways. But he badly miscalculated. \\n\\nHe thought he could roll into Ukraine and the world would roll over. Instead he met a wall of strength he never imagined. \\n\\nHe met the Ukrainian people. \\n\\nFrom President Zelenskyy to every Ukrainian, their fearlessness, their courage, their determination, inspires the world. \\n\\nGroups of citizens blocking tanks with their bodies. Everyone from students to retirees teachers turned soldiers defending their homeland.\\nSource: 0-pl\\nContent: And we won’t stop. \\n\\nWe have lost so much to COVID-19. Time with one another. And worst of all, so much loss of life. \\n\\nLet’s use this moment to reset. Let’s stop looking at COVID-19 as a partisan dividing line and see it for what it is: A God-awful disease.  \\n\\nLet’s stop seeing each other as enemies, and start seeing each other for who we really are: Fellow Americans.  \\n\\nWe can’t change how divided we’ve been. But we can change how we move forward—on COVID-19 and other issues we must face together. \\n\\nI recently visited the New York City Police Department days after the funerals of Officer Wilbert Mora and his partner, Officer Jason Rivera. \\n\\nThey were responding to a 9-1-1 call when a man shot and killed them with a stolen gun. \\n\\nOfficer Mora was 27 years old. \\n\\nOfficer Rivera was 22. \\n\\nBoth Dominican Americans who’d grown up on the same streets they later chose to patrol as police officers. \\n\\nI spoke with their families and told them that we are forever in debt for their sacrifice, and we will carry on their mission to restore the trust and safety every community deserves.\\nSource: 24-pl\\nContent: And a proud Ukrainian people, who have known 30 years  of independence, have repeatedly shown that they will not tolerate anyone who tries to take their country backwards.  \\n\\nTo all Americans, I will be honest with you, as I’ve always promised. A Russian dictator, invading a foreign country, has costs around the world. \\n\\nAnd I’m taking robust action to make sure the pain of our sanctions  is targeted at Russia’s economy. And I will use every tool at our disposal to protect American businesses and consumers. \\n\\nTonight, I can announce that the United States has worked with 30 other countries to release 60 Million barrels of oil from reserves around the world.  \\n\\nAmerica will lead that effort, releasing 30 Million barrels from our own Strategic Petroleum Reserve. And we stand ready to do more if necessary, unified with our allies.  \\n\\nThese steps will help blunt gas prices here at home. And I know the news about what’s happening can seem alarming. \\n\\nBut I want you to know that we are going to be okay.\\nSource: 5-pl\\nContent: More support for patients and families. \\n\\nTo get there, I call on Congress to fund ARPA-H, the Advanced Research Projects Agency for Health. \\n\\nIt’s based on DARPA—the Defense Department project that led to the Internet, GPS, and so much more.  \\n\\nARPA-H will have a singular purpose—to drive breakthroughs in cancer, Alzheimer’s, diabetes, and more. \\n\\nA unity agenda for the nation. \\n\\nWe can do this. \\n\\nMy fellow Americans—tonight , we have gathered in a sacred space—the citadel of our democracy. \\n\\nIn this Capitol, generation after generation, Americans have debated great questions amid great strife, and have done great things. \\n\\nWe have fought for freedom, expanded liberty, defeated totalitarianism and terror. \\n\\nAnd built the strongest, freest, and most prosperous nation the world has ever known. \\n\\nNow is the hour. \\n\\nOur moment of responsibility. \\n\\nOur test of resolve and conscience, of history itself. \\n\\nIt is in this moment that our character is formed. Our purpose is found. Our future is forged. \\n\\nWell I know this nation.\\nSource: 34-pl\\n=========\\nFINAL ANSWER: The president did not mention Michael Jackson.\\nSOURCES:\\n\\nQUESTION: What is the latest fast and furious movie?\\n=========\\nContent: American media franchise\\n\\nFast & Furious (also known as The Fast and the Furious) is an American media franchise centered on a series of action films that are largely concerned with street racing, heists, spies, and family. The franchise also includes short films, a television series, toys, video games, live shows, and theme park attractions. The films are distributed by Universal Pictures.\\n\\nThe first film, based on the 1998 Vibe magazine article \"Racer X\" by Ken Li and written by Gary Scott Thompson, Erik Bergquist, and David Ayer, was released in 2001. It began the original tetralogy of films focused on illegal street racing, which culminated in the film Fast & Furious (2009). The series moved towards heists and spying with Fast Five (2011), which was followed by five sequels in that genre, the most recent of which, Fast X, was released on May 19, 2023.\\n\\nUniversal expanded the series to include the spin-off film Hobbs & Shaw (2019), while its subsidiary DreamWorks Animation followed this with the six-season animated streaming television series Fast & Furious Spy Racers (2019–2021). Soundtrack albums have been released for all the films, as well as compilation albums containing existing music heard in the films. Two short films that tie into the series have also been released.\\n\\nThe series has been commercially successful. It is Universal\\'s biggest franchise and the seventh highest-grossing film series, with a combined gross of over $7 billion.[2] Critical reception for the first four films was mixed until the fifth and later films, which were more positively received. Outside of the films, Fast & Furious has been the focus of other media, including attractions at Universal Studios Hollywood and Universal Studios Florida, live shows, commercials, toys, and video games.\\n\\nFilms [ edit ]\\n\\nReleased [ edit ]\\n\\nThe Fast and the Furious (2001) [ edit ]\\n\\nBrian O\\'Conner, an LAPD officer, goes undercover in the street racing world to investigate a group of unknown truck hijackers, believed to be led by Dominic Toretto.\\n\\n2 Fast 2 Furious (2003) [ edit ]\\n\\nBrian O\\'Conner and Roman Pearce team up to go undercover for the U.S. Customs Service to bring down drug lord Carter Verone in exchange for the erasure of their criminal records.\\n\\nThis is the only film in the main series without Vin Diesel as Dominic Toretto.\\n\\nThe Fast and the Furious: Tokyo Drift (2006) [ edit ]\\n\\nHigh school car enthusiast Sean Boswell is sent to live in Tokyo with his father and finds solace in the city\\'s drifting community.\\n\\nVin Diesel makes a cameo appearance as Dominic Toretto at the end of the film.\\n\\nFast & Furious (2009) [ edit ]\\n\\nDominic Toretto and Federal Bureau of Investigation (FBI) agent Brian O\\'Conner are forced to work together to avenge the murder of Toretto\\'s lover Letty Ortiz and apprehend drug lord Arturo Braga.\\n\\nThe film is set five years after the events of The Fast and the Furious, and before Tokyo Drift, with Sung Kang reprising his role as Han Lue from the latter film.[3]\\n\\nFast Five (2011) [ edit ]\\n\\nDom, Brian, along with Dom\\'s sister Mia plan a heist to steal $100 million from corrupt businessman Hernan Reyes while being pursued for arrest by U.S. Diplomatic Security Service (DSS) agent Luke Hobbs.\\n\\nThe film is also set before the events of Tokyo Drift. Despite not appearing in the film, a picture of Michelle Rodriguez as Letty Ortiz is seen in the mid-credits scene, where Eva Mendes reprises her role as Monica Fuentes from 2 Fast 2 Furious.\\n\\nFast & Furious 6 (2013) [ edit ]\\n\\nDominic Toretto, Brian O\\'Conner and their team are offered amnesty for their crimes by Luke Hobbs, in exchange for helping him take down a skilled mercenary organization led by Owen Shaw, one member of which is Toretto\\'s former lover Letty Ortiz.\\n\\nThe film is the final film to be set before the events of Tokyo Drift. Jason Statham appears as Owen\\'s older brother Deckard Shaw in the credits scene, seemingly killing Han, as seen in Tokyo Drift.\\n\\nFurious 7 (2015) [ edit ]\\nSource: https://en.wikipedia.org/wiki/Fast_%26_Furious\\n\\nContent: Nothing quite gets your adrenaline pumping like the \"Fast and Furious\" franchise. The infamous series, with stars including Vin Diesel, Dwayne Johnson, Paul Walker and Gal Gadot, has been around for two decades.\\n\\nFrom the main franchise and spin-offs to short films and a television show, the \"Fast and Furious\" has enough content to keep anyone occupied.\\n\\nSo, here is how many “Fast and Furious” movies there are, including the original series and spin offs, as well as the correct order to watch.\\n\\nHow many \\'Fast and Furious\\' movies are there?\\n\\nThere are currently 10 films in the main \"Fast and Furious\" franchise. The latest installment, \"Fast X,\" released on May 19, 2023.\\n\\nThere are other movies in the series, including a \"Hobbs and Shaw\" spin off, its planned sequel and a planned, untitled, woman-led spin-off.\\n\\nJust curious:We\\'re here to help with life\\'s everyday questions\\n\\nReview:Vin Diesel\\'s chaotic \\'Fast X\\' stalls out, even with an enjoyably evil Jason Momoa\\n\\n\\'Fast and Furious\\' movies in the order they were released\\n\\n\"The Fast and the Furious\"\\n\\nThe first film in the franchise, released in 2001, follows Los Angeles cop Brian O\\'Conner (Paul Walker), who is tasked to investigate a recent series of automobile hijackings. O\\'Conner goes undercover and befriends Dominic Toretto (Vin Diesel), who is a suspect in this case of dirty money and big-rig hijacking. O\\'Conner must then decide where his loyalty lies.\\n\\n\"2 Fast 2 Furious\"\\n\\nIn the 2003 sequel, after relocating to Miami, O\\'Conner goes back undercover with his friend Roman Pearce (Tyrese Gibson) to take down a drug lord to erase the pair\\'s criminal records.\\n\\n\"The Fast and the Furious: Tokyo Drift\"\\n\\nThe third film is a standalone sequel to the previous. Released in 2006, it chronicles the life of Sean Boswell (Lucas Black), who goes to live with his estranged father in Japan after his affinity for street racing gets him in trouble. Boswell befriends Twinkie (Bow Wow) and is introduced to drift racing, which gets Boswell into more trouble in Tokyo.\\n\\n\"Fast & Furious\"\\n\\nIn the 2009 film, Toretto and O\\'Conner are tasked with investigating the murder of Letty Ortiz (Michelle Rodriguez), Toretto\\'s lover, and seizing drug lord Arturo Braga (John Ortiz).\\n\\nThis movie is set five years after the original and before \"Tokyo Drift.\"\\n\\n\"Fast Five\"\\n\\nToretto and O\\'Conner are back in the fifth installment, released in 2011. The duo, along with Mia Toretto (Jordana Brewster), plan a heist to steal from a corrupt businessman. All the while, the squad of racers is being trailed by U.S. Diplomatic Security Service agent Luke Hobbs (Dwayne Johnson).\\n\\nThis film is also set before the events of \"Tokyo Drift.\"\\n\\n\"Fast & Furious 6\"\\n\\nThe 2013 movie features Toretto, O\\'Conner and the crew teaming up with agent Hobbs in exchange for amnesty in order to help Hobbs catch a team of lethal mercenaries. One of the mercenaries appears to be Toretto\\'s presumed deceased lover, Ortiz.\\n\\nThis is the final film in the timeline before \"Tokyo Drift.\"\\n\\n\"Furious 7\"\\n\\nIn this 2015 release, Toretto, O\\'Conner, and the rest of the team return to normal lives after securing amnesty for their crimes. That is until Deckard Shaw (Jason Statham), a rogue assassin, comes seeking to avenge his younger brother.\\n\\nThe film is set after \"Fast & Furious 6\" and continues from the end of \"Tokyo Drift.\" It also marked the last appearance of Brian O\\'Conner played by Paul Walker, who died in 2013.\\n\\n\"The Fate of the Furious\"\\n\\nThe installment, released in 2017, starts with Toretto and Ortiz settling down to a calmer life than one of crime and racing cars. But a mysterious woman named Cipher (Charlize Theron) ends this, forcing Toretto to betray his family and join her. The crew must then get together to find Toretto and stop Cipher.\\n\\n\"F9\"\\n\\nThe \"Fast and Furious\" release from 2021 sees Toretto and family coming together to foil a world-shattering plot headed by Cipher and Toretto\\'s estranged younger brother Jakob (John Cena).\\nSource: https://www.usatoday.com/story/entertainment/movies/2022/07/29/fast-and-furious-movies-order-of-release/10062943002/\\n=========\\nFINAL ANSWER: The latest \"Fast and Furious\" movie is \"Fast X,\" released on May 19, 2023.\\nSOURCES:\\n\\nhttps://en.wikipedia.org/wiki/Fast_%26_Furious\\nhttps://www.usatoday.com/story/entertainment/movies/2022/07/29/fast-and-furious-movies-order-of-release/10062943002/'}\n"
     ]
    }
   ],
   "source": [
    "from langchain.chains.qa_with_sources import load_qa_with_sources_chain\n",
    "from langchain.llms import OpenAI\n",
    "\n",
    "chain = load_qa_with_sources_chain(llm, chain_type=\"stuff\")\n",
    "\n",
    "response = chain({\"input_documents\": best_k_documents, \"question\": query}, return_only_outputs=True)\n",
    "\n",
    "print(response)"
   ]
  },
  {
   "cell_type": "code",
   "execution_count": 20,
   "metadata": {},
   "outputs": [
    {
     "name": "stdout",
     "output_type": "stream",
     "text": [
      "Answer: The latest \"Fast and Furious\" movie is \"Fast X,\" released on May 19, 2023.\n",
      "Sources: https://en.wikipedia.org/wiki/Fast_%26_Furious\n",
      "https://www.usatoday.com/story/entertainment/movies/2022/07/29/fast-and-furious-movies-order-of-release/10062943002/\n"
     ]
    }
   ],
   "source": [
    "\n",
    "response_text, response_sources = response[\"output_text\"].split(\"FINAL ANSWER:\")[-1].split(\"SOURCES:\")\n",
    "response_text = response_text.strip()\n",
    "response_sources = response_sources.strip()\n",
    "\n",
    "print(f\"Answer: {response_text}\")\n",
    "print(f\"Sources: {response_sources}\")"
   ]
  }
 ],
 "metadata": {
  "kernelspec": {
   "display_name": "genai360",
   "language": "python",
   "name": "python3"
  },
  "language_info": {
   "codemirror_mode": {
    "name": "ipython",
    "version": 3
   },
   "file_extension": ".py",
   "mimetype": "text/x-python",
   "name": "python",
   "nbconvert_exporter": "python",
   "pygments_lexer": "ipython3",
   "version": "3.9.18"
  }
 },
 "nbformat": 4,
 "nbformat_minor": 2
}
