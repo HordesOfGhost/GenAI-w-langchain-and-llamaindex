{
 "cells": [
  {
   "cell_type": "code",
   "execution_count": 1,
   "metadata": {},
   "outputs": [
    {
     "data": {
      "text/plain": [
       "True"
      ]
     },
     "execution_count": 1,
     "metadata": {},
     "output_type": "execute_result"
    }
   ],
   "source": [
    "from dotenv import load_dotenv\n",
    "\n",
    "load_dotenv('../../.env')"
   ]
  },
  {
   "cell_type": "markdown",
   "metadata": {},
   "source": [
    "# Scrape AI News"
   ]
  },
  {
   "cell_type": "code",
   "execution_count": 2,
   "metadata": {},
   "outputs": [],
   "source": [
    "# We scrape several Artificial Intelligence news\n",
    "\n",
    "import requests\n",
    "from newspaper import Article # https://github.com/codelucas/newspaper\n",
    "import time\n",
    "\n",
    "headers = {\n",
    "    'User-Agent': 'Mozilla/5.0 (Windows NT 10.0; Win64; x64) AppleWebKit/537.36 (KHTML, like Gecko) Chrome/89.0.4389.82 Safari/537.36'\n",
    "}\n",
    "\n",
    "article_urls = [\n",
    "    \"https://www.artificialintelligence-news.com/2023/05/23/meta-open-source-speech-ai-models-support-over-1100-languages/\",\n",
    "    \"https://www.artificialintelligence-news.com/2023/05/18/beijing-launches-campaign-against-ai-generated-misinformation/\"\n",
    "    \"https://www.artificialintelligence-news.com/2023/05/16/openai-ceo-ai-regulation-is-essential/\",\n",
    "    \"https://www.artificialintelligence-news.com/2023/05/15/jay-migliaccio-ibm-watson-on-leveraging-ai-to-improve-productivity/\",\n",
    "    \"https://www.artificialintelligence-news.com/2023/05/15/iurii-milovanov-softserve-how-ai-ml-is-helping-boost-innovation-and-personalisation/\",\n",
    "    \"https://www.artificialintelligence-news.com/2023/05/11/ai-and-big-data-expo-north-america-begins-in-less-than-one-week/\",\n",
    "    \"https://www.artificialintelligence-news.com/2023/05/11/eu-committees-green-light-ai-act/\",\n",
    "    \"https://www.artificialintelligence-news.com/2023/05/09/wozniak-warns-ai-will-power-next-gen-scams/\",\n",
    "    \"https://www.artificialintelligence-news.com/2023/05/09/infocepts-ceo-shashank-garg-on-the-da-market-shifts-and-impact-of-ai-on-data-analytics/\",\n",
    "    \"https://www.artificialintelligence-news.com/2023/05/02/ai-godfather-warns-dangers-and-quits-google/\",\n",
    "    \"https://www.artificialintelligence-news.com/2023/04/28/palantir-demos-how-ai-can-used-military/\",\n",
    "    \"https://www.artificialintelligence-news.com/2023/04/26/ftc-chairwoman-no-ai-exemption-to-existing-laws/\",\n",
    "    \"https://www.artificialintelligence-news.com/2023/04/24/bill-gates-ai-teaching-kids-literacy-within-18-months/\",\n",
    "    \"https://www.artificialintelligence-news.com/2023/04/21/google-creates-new-ai-division-to-challenge-openai/\"\n",
    "]\n",
    "\n",
    "session = requests.Session()\n",
    "pages_content = [] # where we save the scraped articles\n",
    "\n",
    "for url in article_urls:\n",
    "    try:\n",
    "        time.sleep(2) # sleep two seconds for gentle scraping\n",
    "        response = session.get(url, headers=headers, timeout=10)\n",
    "\n",
    "        if response.status_code == 200:\n",
    "            article = Article(url)\n",
    "            article.download() # download HTML of webpage\n",
    "            article.parse() # parse HTML to extract the article text\n",
    "            pages_content.append({ \"url\": url, \"text\": article.text })\n",
    "        else:\n",
    "            print(f\"Failed to fetch article at {url}\")\n",
    "    except Exception as e:\n",
    "        print(f\"Error occurred while fetching article at {url}: {e}\")\n",
    "\n",
    "#If an error occurs while fetching an article, we catch the exception and print\n",
    "#an error message. This ensures that even if one article fails to download,\n",
    "#the rest of the articles can still be processed."
   ]
  },
  {
   "cell_type": "markdown",
   "metadata": {},
   "source": [
    "# Store in VectorDB"
   ]
  },
  {
   "cell_type": "code",
   "execution_count": 3,
   "metadata": {},
   "outputs": [
    {
     "name": "stderr",
     "output_type": "stream",
     "text": [
      "Using embedding function is deprecated and will be removed in the future. Please use embedding instead.\n"
     ]
    },
    {
     "name": "stdout",
     "output_type": "stream",
     "text": [
      "Your Deep Lake dataset has been successfully created!\n"
     ]
    },
    {
     "name": "stderr",
     "output_type": "stream",
     "text": [
      " \r"
     ]
    }
   ],
   "source": [
    "# We'll use an embedding model to compute our documents' embeddings\n",
    "from langchain_community.embeddings import HuggingFaceEmbeddings\n",
    "\n",
    "# We'll store the documents and their embeddings in the deep lake vector db\n",
    "from langchain.vectorstores import DeepLake\n",
    "\n",
    "# Setup deep lake\n",
    "embeddings = HuggingFaceEmbeddings(model_name = 'sentence-transformers/all-MiniLM-L6-v2',\n",
    "                                       model_kwargs = {'device':'cpu'} )\n",
    "\n",
    "# create Deep Lake dataset\n",
    "# TODO: use your organization id here. (by default, org id is your username)\n",
    "my_activeloop_org_id = \"thapabibek1129\"\n",
    "my_activeloop_dataset_name = \"langchain_course_analysis_outline\"\n",
    "dataset_path = f\"hub://{my_activeloop_org_id}/{my_activeloop_dataset_name}\"\n",
    "db = DeepLake(dataset_path=dataset_path, embedding_function=embeddings)"
   ]
  },
  {
   "cell_type": "markdown",
   "metadata": {},
   "source": [
    "# Split Text"
   ]
  },
  {
   "cell_type": "code",
   "execution_count": 4,
   "metadata": {},
   "outputs": [],
   "source": [
    "# We split the article texts into small chunks\n",
    "\n",
    "from langchain.text_splitter import RecursiveCharacterTextSplitter\n",
    "\n",
    "text_splitter = RecursiveCharacterTextSplitter(chunk_size=1000, chunk_overlap=100)\n",
    "\n",
    "all_texts = []\n",
    "for d in pages_content:\n",
    "    chunks = text_splitter.split_text(d[\"text\"])\n",
    "    for chunk in chunks:\n",
    "        all_texts.append(chunk)"
   ]
  },
  {
   "cell_type": "code",
   "execution_count": 5,
   "metadata": {},
   "outputs": [
    {
     "name": "stderr",
     "output_type": "stream",
     "text": [
      "Creating 94 embeddings in 1 batches of size 94:: 100%|██████████| 1/1 [00:52<00:00, 52.33s/it]"
     ]
    },
    {
     "name": "stdout",
     "output_type": "stream",
     "text": [
      "Dataset(path='hub://thapabibek1129/langchain_course_analysis_outline', tensors=['text', 'metadata', 'embedding', 'id'])\n",
      "\n",
      "  tensor      htype      shape     dtype  compression\n",
      "  -------    -------    -------   -------  ------- \n",
      "   text       text      (94, 1)     str     None   \n",
      " metadata     json      (94, 1)     str     None   \n",
      " embedding  embedding  (94, 384)  float32   None   \n",
      "    id        text      (94, 1)     str     None   \n"
     ]
    },
    {
     "name": "stderr",
     "output_type": "stream",
     "text": [
      "\n"
     ]
    },
    {
     "data": {
      "text/plain": [
       "['d33f2639-cb08-11ee-b0ee-a434d9523559',\n",
       " 'd33f263a-cb08-11ee-a92e-a434d9523559',\n",
       " 'd33f263b-cb08-11ee-9cf9-a434d9523559',\n",
       " 'd33f263c-cb08-11ee-ae18-a434d9523559',\n",
       " 'd33f263d-cb08-11ee-8f6c-a434d9523559',\n",
       " 'd33f263e-cb08-11ee-80ae-a434d9523559',\n",
       " 'd33f263f-cb08-11ee-bb34-a434d9523559',\n",
       " 'd33f2640-cb08-11ee-b704-a434d9523559',\n",
       " 'd33f2641-cb08-11ee-9dea-a434d9523559',\n",
       " 'd33f2642-cb08-11ee-ad02-a434d9523559',\n",
       " 'd33f2643-cb08-11ee-b902-a434d9523559',\n",
       " 'd33f2644-cb08-11ee-93ec-a434d9523559',\n",
       " 'd33f2645-cb08-11ee-ba08-a434d9523559',\n",
       " 'd33f2646-cb08-11ee-bddc-a434d9523559',\n",
       " 'd33f2647-cb08-11ee-9159-a434d9523559',\n",
       " 'd33f2648-cb08-11ee-b674-a434d9523559',\n",
       " 'd33f2649-cb08-11ee-966d-a434d9523559',\n",
       " 'd33f264a-cb08-11ee-adee-a434d9523559',\n",
       " 'd33f264b-cb08-11ee-8072-a434d9523559',\n",
       " 'd33f264c-cb08-11ee-b1d8-a434d9523559',\n",
       " 'd33f264d-cb08-11ee-9aaf-a434d9523559',\n",
       " 'd33f264e-cb08-11ee-b076-a434d9523559',\n",
       " 'd33f264f-cb08-11ee-a110-a434d9523559',\n",
       " 'd33f2650-cb08-11ee-a213-a434d9523559',\n",
       " 'd33f2651-cb08-11ee-9be3-a434d9523559',\n",
       " 'd33f2652-cb08-11ee-9dea-a434d9523559',\n",
       " 'd33f2653-cb08-11ee-87b0-a434d9523559',\n",
       " 'd33f2654-cb08-11ee-8518-a434d9523559',\n",
       " 'd33f2655-cb08-11ee-8816-a434d9523559',\n",
       " 'd33f2656-cb08-11ee-9581-a434d9523559',\n",
       " 'd33f2657-cb08-11ee-a9b0-a434d9523559',\n",
       " 'd33f2658-cb08-11ee-a090-a434d9523559',\n",
       " 'd33f2659-cb08-11ee-bea7-a434d9523559',\n",
       " 'd33f265a-cb08-11ee-bc94-a434d9523559',\n",
       " 'd33f265b-cb08-11ee-98cf-a434d9523559',\n",
       " 'd33f265c-cb08-11ee-8a6c-a434d9523559',\n",
       " 'd33f265d-cb08-11ee-bc8a-a434d9523559',\n",
       " 'd33f265e-cb08-11ee-bca7-a434d9523559',\n",
       " 'd33f265f-cb08-11ee-b49e-a434d9523559',\n",
       " 'd33f2660-cb08-11ee-9a19-a434d9523559',\n",
       " 'd33f2661-cb08-11ee-a666-a434d9523559',\n",
       " 'd33f2662-cb08-11ee-930f-a434d9523559',\n",
       " 'd33f2663-cb08-11ee-8b54-a434d9523559',\n",
       " 'd33f2664-cb08-11ee-b097-a434d9523559',\n",
       " 'd33f2665-cb08-11ee-9985-a434d9523559',\n",
       " 'd33f2666-cb08-11ee-a4a5-a434d9523559',\n",
       " 'd33f4c56-cb08-11ee-a3d6-a434d9523559',\n",
       " 'd33f4c57-cb08-11ee-98d2-a434d9523559',\n",
       " 'd33f4c58-cb08-11ee-8bf4-a434d9523559',\n",
       " 'd33f4c59-cb08-11ee-ae5c-a434d9523559',\n",
       " 'd33f4c5a-cb08-11ee-abd2-a434d9523559',\n",
       " 'd33f4c5b-cb08-11ee-b3dd-a434d9523559',\n",
       " 'd33f4c5c-cb08-11ee-a766-a434d9523559',\n",
       " 'd33f4c5d-cb08-11ee-b423-a434d9523559',\n",
       " 'd33f4c5e-cb08-11ee-98c6-a434d9523559',\n",
       " 'd33f4c5f-cb08-11ee-94a4-a434d9523559',\n",
       " 'd33f4c60-cb08-11ee-91ab-a434d9523559',\n",
       " 'd33f4c61-cb08-11ee-a446-a434d9523559',\n",
       " 'd33f4c62-cb08-11ee-9d59-a434d9523559',\n",
       " 'd33f4c63-cb08-11ee-a2a4-a434d9523559',\n",
       " 'd33f4c64-cb08-11ee-8eac-a434d9523559',\n",
       " 'd33f4c65-cb08-11ee-a6bb-a434d9523559',\n",
       " 'd33f4c66-cb08-11ee-9f67-a434d9523559',\n",
       " 'd33f4c67-cb08-11ee-9a09-a434d9523559',\n",
       " 'd33f4c68-cb08-11ee-bf82-a434d9523559',\n",
       " 'd33f4c69-cb08-11ee-966d-a434d9523559',\n",
       " 'd33f4c6a-cb08-11ee-8c26-a434d9523559',\n",
       " 'd33f4c6b-cb08-11ee-841f-a434d9523559',\n",
       " 'd33f4c6c-cb08-11ee-8e8f-a434d9523559',\n",
       " 'd33f4c6d-cb08-11ee-9bb9-a434d9523559',\n",
       " 'd33f4c6e-cb08-11ee-bbb3-a434d9523559',\n",
       " 'd33f4c6f-cb08-11ee-8a71-a434d9523559',\n",
       " 'd33f4c70-cb08-11ee-9066-a434d9523559',\n",
       " 'd33f4c71-cb08-11ee-84c0-a434d9523559',\n",
       " 'd33f4c72-cb08-11ee-a0e5-a434d9523559',\n",
       " 'd33f4c73-cb08-11ee-b943-a434d9523559',\n",
       " 'd33f4c74-cb08-11ee-91f0-a434d9523559',\n",
       " 'd33f4c75-cb08-11ee-a0ba-a434d9523559',\n",
       " 'd33f4c76-cb08-11ee-9374-a434d9523559',\n",
       " 'd33f4c77-cb08-11ee-b989-a434d9523559',\n",
       " 'd33f4c78-cb08-11ee-b8d5-a434d9523559',\n",
       " 'd33f4c79-cb08-11ee-b35b-a434d9523559',\n",
       " 'd33f4c7a-cb08-11ee-ae68-a434d9523559',\n",
       " 'd33f4c7b-cb08-11ee-b303-a434d9523559',\n",
       " 'd33f4c7c-cb08-11ee-9c49-a434d9523559',\n",
       " 'd33f4c7d-cb08-11ee-bae7-a434d9523559',\n",
       " 'd33f4c7e-cb08-11ee-8fb4-a434d9523559',\n",
       " 'd33f4c7f-cb08-11ee-880f-a434d9523559',\n",
       " 'd33f4c80-cb08-11ee-8a2c-a434d9523559',\n",
       " 'd33f4c81-cb08-11ee-9627-a434d9523559',\n",
       " 'd33f4c82-cb08-11ee-a96d-a434d9523559',\n",
       " 'd33f4c83-cb08-11ee-a7e2-a434d9523559',\n",
       " 'd33f7364-cb08-11ee-93d8-a434d9523559',\n",
       " 'd33f7365-cb08-11ee-a002-a434d9523559']"
      ]
     },
     "execution_count": 5,
     "metadata": {},
     "output_type": "execute_result"
    }
   ],
   "source": [
    "# we add all the chunks to the Deep lake\n",
    "db.add_texts(all_texts)"
   ]
  },
  {
   "cell_type": "markdown",
   "metadata": {},
   "source": [
    "# Plan and Execute Agent"
   ]
  },
  {
   "cell_type": "code",
   "execution_count": 6,
   "metadata": {},
   "outputs": [],
   "source": [
    "# Get the retriever object from the deep lake db object and set the number\n",
    "# of retrieved documents to 3\n",
    "retriever = db.as_retriever()\n",
    "retriever.search_kwargs['k'] = 3\n",
    "\n",
    "# We define some variables that will be used inside our custom tool\n",
    "CUSTOM_TOOL_DOCS_SEPARATOR =\"\\n---------------\\n\" # how to join together the retrieved docs to form a single string\n",
    "\n",
    "# This is the function that defines our custom tool that retrieves relevant\n",
    "# docs from Deep Lake\n",
    "def retrieve_n_docs_tool(query: str) -> str:\n",
    "    \"\"\"Searches for relevant documents that may contain the answer to the query.\"\"\"\n",
    "    docs = retriever.get_relevant_documents(query)\n",
    "    texts = [doc.page_content for doc in docs]\n",
    "    texts_merged = \"---------------\\n\" + CUSTOM_TOOL_DOCS_SEPARATOR.join(texts) + \"\\n---------------\"\n",
    "    return texts_merged"
   ]
  },
  {
   "cell_type": "code",
   "execution_count": 7,
   "metadata": {},
   "outputs": [],
   "source": [
    "from langchain.agents.tools import Tool\n",
    "\n",
    "# We create the tool that uses the \"retrieve_n_docs_tool\" function\n",
    "tools = [\n",
    "    Tool(\n",
    "        name=\"Search Private Docs\",\n",
    "        func=retrieve_n_docs_tool,\n",
    "        description=\"useful for when you need to answer questions about current events about Artificial Intelligence\"\n",
    "    )\n",
    "]"
   ]
  },
  {
   "cell_type": "code",
   "execution_count": 11,
   "metadata": {},
   "outputs": [],
   "source": [
    "from langchain import HuggingFaceHub\n",
    "from langchain_experimental.plan_and_execute import PlanAndExecute, load_agent_executor, load_chat_planner\n",
    "\n",
    "# let's create the Plan and Execute agent\n",
    "llm = HuggingFaceHub(\n",
    "    repo_id='mistralai/Mistral-7B-Instruct-v0.2',\n",
    "    model_kwargs={'temperature':0.5,\"max_length\": 64,\"max_new_tokens\":512}\n",
    ")\n",
    "\n",
    "planner = load_chat_planner(llm)\n",
    "executor = load_agent_executor(llm, tools, verbose=True)\n",
    "agent = PlanAndExecute(planner=planner, executor=executor,handle_parsing_errors=True, verbose=True)"
   ]
  },
  {
   "cell_type": "code",
   "execution_count": 13,
   "metadata": {},
   "outputs": [],
   "source": [
    "# we test the agent\n",
    "# response = agent.run(\"Write an overview of Artificial Intelligence regulations by governments by country\")"
   ]
  },
  {
   "cell_type": "code",
   "execution_count": 14,
   "metadata": {},
   "outputs": [],
   "source": [
    "# > Entering new PlanAndExecute chain...\n",
    "# steps=[Step(value='Research the current state of Artificial Intelligence (AI) regulations in various countries.'), Step(value='Identify the key countries with significant AI regulations or ongoing discussions about AI regulations.'), Step(value='Summarize the AI regulations or discussions in each identified country.'), Step(value='Organize the information by country, providing an overview of the AI regulations in each.'), Step(value='Given the above steps taken, provide an overview of Artificial Intelligence regulations by governments by country.\\n')]"
   ]
  },
  {
   "cell_type": "code",
   "execution_count": 15,
   "metadata": {},
   "outputs": [],
   "source": [
    "# > Entering new AgentExecutor chain...Action:\n",
    "# ```\n",
    "# {\n",
    "#   \"action\": \"Search Private Docs\",\n",
    "#   \"action_input\": \"current state of Artificial Intelligence regulations in various countries\"\n",
    "# }\n",
    "# ```\n",
    "# Observation: ---------------\n",
    "# “US-based AI developers will likely steal a march on their European competitors given the news that the EU parliamentary committees have green-lit its groundbreaking AI Act, where AI systems will need to be categorized according to their potential for harm from the outset. The US tech approach is typically to experiment first and, once market and product fit is established, to retrofit to other markets and their regulatory framework. This approach fosters innovation whereas EU-based AI developers will need to take note of the new rules and develop systems and processes which may take the edge off their ability to innovate. The UK is adopting a similar approach to the US, although the proximity of the EU market means that UK-based developers are more likely to fall into step with the EU ruleset from the outset. However, the potential to experiment in a safe space – a regulatory sandbox – may prove very attractive.”\n",
    "# ---------------\n",
    "# To boost AI innovation, MEPs added exemptions to these rules for research activities and AI components provided under open-source licenses. The new law also promotes regulatory sandboxes – or controlled environments established by public authorities – to test AI before its deployment.\n",
    "\n",
    "# MEPs want to boost citizens’ right to file complaints about AI systems and receive explanations of decisions based on high-risk AI systems that significantly impact their rights. MEPs also reformed the role of the EU AI Office, which would be tasked with monitoring how the AI rulebook is implemented.\n",
    "\n",
    "# Tim Wright, Tech and AI Regulatory Partner at London-based law firm Fladgate commented:\n",
    "# ---------------\n",
    "# Ryan is a senior editor at TechForge Media with over a decade of experience covering the latest technology and interviewing leading industry figures. He can often be sighted at tech conferences with a strong coffee in one hand and a laptop in the other. If it's geeky, he’s probably into it. Find him on Twitter (@Gadget_Ry) or Mastodon (@gadgetry@techhub.social)\n",
    "\n",
    "# The Internal Market Committee and the Civil Liberties Committee of the European Parliament have endorsed new transparency and risk-management rules for artificial intelligence systems known as the AI Act.\n",
    "\n",
    "# This marks a major step in the development of AI regulation in Europe, as these are the first-ever rules for AI. The rules aim to ensure that AI systems are safe, transparent, traceable, and non-discriminatory.\n",
    "\n",
    "# After the vote, co-rapporteur Brando Benifei (S&D, Italy) said:\n",
    "# ---------------\n",
    "# Thought: I have information about the current state of AI regulations in the EU, US, and UK. I can provide a summary of the AI regulations in these regions.\n",
    "# Action:\n",
    "# ```\n",
    "# {\n",
    "#   \"action\": \"Final Answer\",\n",
    "#   \"action_input\": \"The current state of AI regulations varies across countries. In the European Union, the AI Act has been endorsed by the Internal Market Committee and the Civil Liberties Committee, marking a major step in AI regulation. The AI Act aims to ensure that AI systems are safe, transparent, traceable, and non-discriminatory. In the United States, AI developers typically experiment first and then retrofit their products to other markets and regulatory frameworks, fostering innovation. The UK is adopting a similar approach to the US, but its proximity to the EU market means that UK-based developers are more likely to align with the EU ruleset from the outset. Regulatory sandboxes, or controlled environments established by public authorities, are being promoted to test AI before deployment.\"\n",
    "# }\n",
    "# ```> Finished chain.\n",
    "# *****"
   ]
  },
  {
   "cell_type": "markdown",
   "metadata": {},
   "source": [
    "# Retriever"
   ]
  },
  {
   "cell_type": "code",
   "execution_count": 16,
   "metadata": {},
   "outputs": [],
   "source": [
    "# The current state of AI regulations varies across countries. In the European Union, the AI Act has been endorsed by the Internal Market Committee and the Civil Liberties Committee, marking a major step in AI regulation. The AI Act aims to ensure that AI systems are safe, transparent, traceable, and non-discriminatory. In the United States, AI developers typically experiment first and then retrofit their products to other markets and regulatory frameworks, fostering innovation. The UK is adopting a similar approach to the US, but its proximity to the EU market means that UK-based developers are more likely to align with the EU ruleset from the outset. Regulatory sandboxes, or controlled environments established by public authorities, are being promoted to test AI before deployment."
   ]
  },
  {
   "cell_type": "markdown",
   "metadata": {},
   "source": [
    "# Final"
   ]
  },
  {
   "cell_type": "code",
   "execution_count": null,
   "metadata": {},
   "outputs": [],
   "source": [
    "# European Union: The AI Act has been endorsed by the Internal Market Committee and the Civil Liberties Committee, aiming to ensure AI systems are safe, transparent, traceable, and non-discriminatory.\n",
    "\n",
    "# United States: AI developers typically experiment first and then retrofit their products to other markets and regulatory frameworks, fostering innovation.\n",
    "\n",
    "# United Kingdom: The UK is adopting a similar approach to the US, but its proximity to the EU market means that UK-based developers are more likely to align with the EU ruleset from the outset. Regulatory sandboxes are being promoted to test AI before deployment."
   ]
  }
 ],
 "metadata": {
  "kernelspec": {
   "display_name": "genai360",
   "language": "python",
   "name": "python3"
  },
  "language_info": {
   "codemirror_mode": {
    "name": "ipython",
    "version": 3
   },
   "file_extension": ".py",
   "mimetype": "text/x-python",
   "name": "python",
   "nbconvert_exporter": "python",
   "pygments_lexer": "ipython3",
   "version": "3.9.18"
  }
 },
 "nbformat": 4,
 "nbformat_minor": 2
}
