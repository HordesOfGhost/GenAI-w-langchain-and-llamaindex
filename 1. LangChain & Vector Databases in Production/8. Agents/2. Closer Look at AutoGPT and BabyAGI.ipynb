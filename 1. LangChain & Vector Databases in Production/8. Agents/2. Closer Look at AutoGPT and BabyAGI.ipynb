{
 "cells": [
  {
   "cell_type": "markdown",
   "metadata": {},
   "source": [
    "# BABY AGI"
   ]
  },
  {
   "cell_type": "code",
   "execution_count": null,
   "metadata": {
    "vscode": {
     "languageId": "plaintext"
    }
   },
   "outputs": [],
   "source": [
    "from langchain.embeddings import OpenAIEmbeddings\n",
    "import faiss\n",
    "from langchain.vectorstores import FAISS\n",
    "from langchain.docstore import InMemoryDocstore\n",
    "\n",
    "# Define the embedding model\n",
    "embeddings_model = OpenAIEmbeddings(model=\"text-embedding-ada-002\")\n",
    "\n",
    "# Initialize the vectorstore\n",
    "embedding_size = 1536\n",
    "index = faiss.IndexFlatL2(embedding_size)\n",
    "vectorstore = FAISS(embeddings_model.embed_query, index, InMemoryDocstore({}), {})"
   ]
  },
  {
   "cell_type": "code",
   "execution_count": null,
   "metadata": {
    "vscode": {
     "languageId": "plaintext"
    }
   },
   "outputs": [],
   "source": [
    "from langchain import OpenAI\n",
    "from langchain_experimental.autonomous_agents import BabyAGI\n",
    "\n",
    "# set the goal\n",
    "goal = \"Plan a trip to the Grand Canyon\"\n",
    "\n",
    "# create thebabyagi agent\n",
    "# If max_iterations is None, the agent may go on forever if stuck in loops\n",
    "baby_agi = BabyAGI.from_llm(\n",
    "    llm=OpenAI(model=\"gpt-3.5-turbo-instruct\", temperature=0),\n",
    "    vectorstore=vectorstore,\n",
    "    verbose=False,\n",
    "    max_iterations=3\n",
    ")\n",
    "response = baby_agi({\"objective\": goal})"
   ]
  },
  {
   "cell_type": "code",
   "execution_count": null,
   "metadata": {
    "vscode": {
     "languageId": "plaintext"
    }
   },
   "outputs": [],
   "source": [
    "\"\"\"\n",
    "    ****TASK LIST*****\n",
    "\n",
    "    1: Make a todo list\n",
    "\n",
    "    *****NEXT TASK*****\n",
    "\n",
    "    1: Make a todo list\n",
    "\n",
    "    *****TASK RESULT*****\n",
    "\n",
    "    1. Research the best time to visit the Grand Canyon\n",
    "    2. Book flights to the Grand Canyon\n",
    "    3. Book a hotel near the Grand Canyon\n",
    "    4. Research the best activities to do at the Grand Canyon\n",
    "    5. Make a list of items to pack for the trip\n",
    "    6. Make a budget for the trip\n",
    "    7. Make a list of places to eat near the Grand Canyon\n",
    "    8. Make a list of souvenirs to buy at the Grand Canyon\n",
    "    9. Make a list of places to visit near the Grand Canyon\n",
    "    10. Make a list of emergency contacts to have on hand during the trip\n",
    "\n",
    "    *****TASK LIST*****\n",
    "\n",
    "    2: Research the best way to get to the Grand Canyon from the airport\n",
    "    3: Research the best way to get around the Grand Canyon\n",
    "    4: Research the best places to take pictures at the Grand Canyon\n",
    "    5: Research the best places to take hikes at the Grand Canyon\n",
    "    6: Research the best places to view wildlife at the Grand Canyon\n",
    "    7: Research the best places to camp at the Grand Canyon\n",
    "    8: Research the best places to stargaze at the Grand Canyon\n",
    "    9: Research the best places to take a tour at the Grand Canyon\n",
    "    10: Research the best places to buy souvenirs at the Grand Canyon\n",
    "    11: Research the cost of activities at the Grand Canyon\n",
    "\n",
    "    *****NEXT TASK*****\n",
    "\n",
    "    2: Research the best way to get to the Grand Canyon from the airport\n",
    "\n",
    "    *****TASK RESULT*****\n",
    "\n",
    "    I will research the best way to get to the Grand Canyon from the airport. I will look into the different transportation options available, such as car rental, public transportation, and shuttle services. I will also compare the cost and convenience of each option. Additionally, I will research the best routes to take to get to the Grand Canyon from the airport.\n",
    "\n",
    "    *****TASK LIST*****\n",
    "\n",
    "    3: Research the best activities to do at the Grand Canyon\n",
    "    4: Research the best places to take pictures at the Grand Canyon\n",
    "    5: Research the best places to take hikes at the Grand Canyon\n",
    "    6: Research the best places to view wildlife at the Grand Canyon\n",
    "    7: Research the best places to camp at the Grand Canyon\n",
    "    8: Research the best places to stargaze at the Grand Canyon\n",
    "    9: Research the best places to take a tour at the Grand Canyon\n",
    "    10: Research the best places to buy souvenirs at the Grand Canyon\n",
    "    11: Research the cost of activities at the Grand Canyon\n",
    "    12: Research the best restaurants near the Grand Canyon\n",
    "    13: Research the best hotels near the Grand Canyon\n",
    "    14: Research the best way to get around the Grand Canyon\n",
    "    15: Research the best places to take a break from the heat at the Grand Canyon\n",
    "    16: Research the best places to take a break from the crowds at the Grand Canyon\n",
    "    17: Research the best places to take a break from the sun at the Grand Canyon\n",
    "    18: Research the best places to take a break from the wind at the Grand Canyon\n",
    "    19: Research the best places\n",
    "\n",
    "    *****NEXT TASK*****\n",
    "\n",
    "    3: Research the best activities to do at the Grand Canyon\n",
    "\n",
    "    *****TASK RESULT*****\n",
    "\n",
    "    To help you plan the best activities to do at the Grand Canyon, here are some suggestions:\n",
    "    1. Take a guided tour of the Grand Canyon. There are a variety of guided tours available, from helicopter tours to mule rides.\n",
    "    2. Hike the trails. There are a variety of trails to explore, from easy to difficult.\n",
    "    3. Visit the Grand Canyon Skywalk. This is a glass bridge that extends 70 feet over the edge of the canyon.\n",
    "    4. Take a rafting trip down the Colorado River. This is a great way to experience the canyon from a different perspective.\n",
    "    5. Visit the Grand Canyon Village. This is a great place to explore the history of the canyon and learn more about the area.\n",
    "    6. Take a scenic drive. There are a variety of scenic drives that offer stunning views of the canyon.\n",
    "    7. Go camping. There are a variety of camping sites available in the area, from primitive to RV sites.\n",
    "    8. Take a helicopter tour. This is a great way to get an aerial view of the canyon.\n",
    "    9. Visit the Desert View Watchtower. This is a great place to get a panoramic view of the canyon\n",
    "\n",
    "    *****TASK ENDING*****\n",
    "\n",
    "\"\"\"\n"
   ]
  },
  {
   "cell_type": "code",
   "execution_count": null,
   "metadata": {
    "vscode": {
     "languageId": "plaintext"
    }
   },
   "outputs": [],
   "source": []
  }
 ],
 "metadata": {
  "language_info": {
   "name": "python"
  }
 },
 "nbformat": 4,
 "nbformat_minor": 2
}
