{
 "cells": [
  {
   "cell_type": "code",
   "execution_count": 1,
   "metadata": {},
   "outputs": [
    {
     "data": {
      "text/plain": [
       "True"
      ]
     },
     "execution_count": 1,
     "metadata": {},
     "output_type": "execute_result"
    }
   ],
   "source": [
    "from dotenv import load_dotenv\n",
    "\n",
    "load_dotenv('../../.env')"
   ]
  },
  {
   "cell_type": "markdown",
   "metadata": {},
   "source": [
    "# Import Libraries"
   ]
  },
  {
   "cell_type": "code",
   "execution_count": 6,
   "metadata": {},
   "outputs": [],
   "source": [
    "from langchain.vectorstores import DeepLake\n",
    "from langchain.text_splitter import CharacterTextSplitter\n",
    "from langchain import HuggingFaceHub\n",
    "from langchain.document_loaders import SeleniumURLLoader\n",
    "from langchain import PromptTemplate\n",
    "from langchain_community.embeddings import HuggingFaceEmbeddings"
   ]
  },
  {
   "cell_type": "code",
   "execution_count": 3,
   "metadata": {},
   "outputs": [],
   "source": [
    "# we'll use information from the following articles\n",
    "urls = ['https://beebom.com/what-is-nft-explained/',\n",
    "        'https://beebom.com/how-delete-spotify-account/',\n",
    "        'https://beebom.com/how-download-gif-twitter/',\n",
    "        'https://beebom.com/how-use-chatgpt-linux-terminal/',\n",
    "        'https://beebom.com/how-delete-spotify-account/',\n",
    "        'https://beebom.com/how-save-instagram-story-with-music/',\n",
    "        'https://beebom.com/how-install-pip-windows/',\n",
    "        'https://beebom.com/how-check-disk-usage-linux/']"
   ]
  },
  {
   "cell_type": "markdown",
   "metadata": {},
   "source": [
    "### 1. Split the documents into chunks and compute their embeddings"
   ]
  },
  {
   "cell_type": "code",
   "execution_count": 4,
   "metadata": {},
   "outputs": [
    {
     "name": "stderr",
     "output_type": "stream",
     "text": [
      "Created a chunk of size 1226, which is longer than the specified 1000\n"
     ]
    }
   ],
   "source": [
    "# use the selenium scraper to load the documents\n",
    "loader = SeleniumURLLoader(urls=urls)\n",
    "docs_not_splitted = loader.load()\n",
    "\n",
    "# we split the documents into smaller chunks\n",
    "text_splitter = CharacterTextSplitter(chunk_size=1000, chunk_overlap=0)\n",
    "docs = text_splitter.split_documents(docs_not_splitted)"
   ]
  },
  {
   "cell_type": "code",
   "execution_count": 8,
   "metadata": {},
   "outputs": [
    {
     "name": "stdout",
     "output_type": "stream",
     "text": [
      "page_content='Apart from that, critics warn that NFT is a bubble, and people who are buying a strange GIF or collecting a rare video clip at such a high cost will come crashing down. Experts say that paintings and rare collectibles do not hold value just because of the sheer artistry, but also because there is an established audience who want to own and collect rare paintings or an artwork that no other person has.\\n\\nExperts point out that those who are buying digital artwork are not paying huge sums because they appreciate art. Instead, they want to create a bubble to earn money by reselling it at a higher price. It’s worth noting that the digital world does not have a scarcity of artwork — unlike physical masterpieces — so the prices will likely come down once the bubble bursts.\\n\\nHow to Buy NFTs\\n\\nBuying an NFT is as simple as heading to any of the NFT marketplaces, and making a purchase. However, there are certain things you need to take into consideration before you make your first NFT purchase.' metadata={'source': 'https://beebom.com/what-is-nft-explained/'}\n"
     ]
    }
   ],
   "source": [
    "print(docs[10])"
   ]
  },
  {
   "cell_type": "code",
   "execution_count": 7,
   "metadata": {},
   "outputs": [
    {
     "name": "stderr",
     "output_type": "stream",
     "text": [
      "The cache for model files in Transformers v4.22.0 has been updated. Migrating your old cache. This is a one-time only operation. You can interrupt this and resume the migration later on by calling `transformers.utils.move_cache()`.\n"
     ]
    },
    {
     "data": {
      "application/vnd.jupyter.widget-view+json": {
       "model_id": "975c55241e0e42cdae9dcbd005a98bca",
       "version_major": 2,
       "version_minor": 0
      },
      "text/plain": [
       "0it [00:00, ?it/s]"
      ]
     },
     "metadata": {},
     "output_type": "display_data"
    },
    {
     "name": "stdout",
     "output_type": "stream",
     "text": [
      "Deep Lake Dataset in hub://thapabibek1129/langchain_course_customer_support already exists, loading from the storage\n"
     ]
    },
    {
     "name": "stderr",
     "output_type": "stream",
     "text": [
      "Creating 151 embeddings in 1 batches of size 151:: 100%|██████████| 1/1 [01:07<00:00, 67.91s/it]"
     ]
    },
    {
     "name": "stdout",
     "output_type": "stream",
     "text": [
      "Dataset(path='hub://thapabibek1129/langchain_course_customer_support', tensors=['embedding', 'id', 'metadata', 'text'])\n",
      "\n",
      "  tensor      htype      shape      dtype  compression\n",
      "  -------    -------    -------    -------  ------- \n",
      " embedding  embedding  (151, 384)  float32   None   \n",
      "    id        text      (151, 1)     str     None   \n",
      " metadata     json      (151, 1)     str     None   \n",
      "   text       text      (151, 1)     str     None   \n"
     ]
    },
    {
     "name": "stderr",
     "output_type": "stream",
     "text": [
      "\n"
     ]
    },
    {
     "data": {
      "text/plain": [
       "['58e683ba-c97a-11ee-89d3-a434d9523559',\n",
       " '58e683bb-c97a-11ee-b562-a434d9523559',\n",
       " '58e683bc-c97a-11ee-babe-a434d9523559',\n",
       " '58e683bd-c97a-11ee-bdf7-a434d9523559',\n",
       " '58e683be-c97a-11ee-8e27-a434d9523559',\n",
       " '58e683bf-c97a-11ee-b062-a434d9523559',\n",
       " '58e683c0-c97a-11ee-9384-a434d9523559',\n",
       " '58e683c1-c97a-11ee-863b-a434d9523559',\n",
       " '58e683c2-c97a-11ee-967a-a434d9523559',\n",
       " '58e683c3-c97a-11ee-9c77-a434d9523559',\n",
       " '58e683c4-c97a-11ee-bbd3-a434d9523559',\n",
       " '58e683c5-c97a-11ee-8071-a434d9523559',\n",
       " '58e683c6-c97a-11ee-b8dd-a434d9523559',\n",
       " '58e683c7-c97a-11ee-b1f4-a434d9523559',\n",
       " '58e683c8-c97a-11ee-98f4-a434d9523559',\n",
       " '58e683c9-c97a-11ee-8202-a434d9523559',\n",
       " '58e683ca-c97a-11ee-abd2-a434d9523559',\n",
       " '58e683cb-c97a-11ee-9a51-a434d9523559',\n",
       " '58e683cc-c97a-11ee-a839-a434d9523559',\n",
       " '58e683cd-c97a-11ee-aa3d-a434d9523559',\n",
       " '58e683ce-c97a-11ee-be26-a434d9523559',\n",
       " '58e683cf-c97a-11ee-9042-a434d9523559',\n",
       " '58e683d0-c97a-11ee-ae7d-a434d9523559',\n",
       " '58e683d1-c97a-11ee-b768-a434d9523559',\n",
       " '58e683d2-c97a-11ee-9cac-a434d9523559',\n",
       " '58e683d3-c97a-11ee-8ec8-a434d9523559',\n",
       " '58e683d4-c97a-11ee-9638-a434d9523559',\n",
       " '58e683d5-c97a-11ee-9a38-a434d9523559',\n",
       " '58e683d6-c97a-11ee-8ab6-a434d9523559',\n",
       " '58e683d7-c97a-11ee-ad54-a434d9523559',\n",
       " '58e683d8-c97a-11ee-a32f-a434d9523559',\n",
       " '58e683d9-c97a-11ee-8782-a434d9523559',\n",
       " '58e683da-c97a-11ee-8672-a434d9523559',\n",
       " '58e683db-c97a-11ee-8756-a434d9523559',\n",
       " '58e683dc-c97a-11ee-915e-a434d9523559',\n",
       " '58e683dd-c97a-11ee-8e81-a434d9523559',\n",
       " '58e683de-c97a-11ee-a361-a434d9523559',\n",
       " '58e683df-c97a-11ee-9ac1-a434d9523559',\n",
       " '58e683e0-c97a-11ee-bbbf-a434d9523559',\n",
       " '58e683e1-c97a-11ee-b827-a434d9523559',\n",
       " '58e683e2-c97a-11ee-9431-a434d9523559',\n",
       " '58e683e3-c97a-11ee-bf49-a434d9523559',\n",
       " '58e683e4-c97a-11ee-8af9-a434d9523559',\n",
       " '58e683e5-c97a-11ee-8d9a-a434d9523559',\n",
       " '58e683e6-c97a-11ee-aab7-a434d9523559',\n",
       " '58e683e7-c97a-11ee-8b69-a434d9523559',\n",
       " '58e683e8-c97a-11ee-923e-a434d9523559',\n",
       " '58e683e9-c97a-11ee-a218-a434d9523559',\n",
       " '58e683ea-c97a-11ee-afd2-a434d9523559',\n",
       " '58e683eb-c97a-11ee-a885-a434d9523559',\n",
       " '58e683ec-c97a-11ee-ac42-a434d9523559',\n",
       " '58e683ed-c97a-11ee-ac8a-a434d9523559',\n",
       " '58e683ee-c97a-11ee-978d-a434d9523559',\n",
       " '58e683ef-c97a-11ee-8498-a434d9523559',\n",
       " '58e683f0-c97a-11ee-8d4d-a434d9523559',\n",
       " '58e683f1-c97a-11ee-b14f-a434d9523559',\n",
       " '58e683f2-c97a-11ee-83fd-a434d9523559',\n",
       " '58e683f3-c97a-11ee-a00d-a434d9523559',\n",
       " '58e683f4-c97a-11ee-9646-a434d9523559',\n",
       " '58e683f5-c97a-11ee-aac9-a434d9523559',\n",
       " '58e683f6-c97a-11ee-8126-a434d9523559',\n",
       " '58e683f7-c97a-11ee-85e1-a434d9523559',\n",
       " '58e683f8-c97a-11ee-b234-a434d9523559',\n",
       " '58e683f9-c97a-11ee-a203-a434d9523559',\n",
       " '58e683fa-c97a-11ee-9588-a434d9523559',\n",
       " '58e683fb-c97a-11ee-ae4b-a434d9523559',\n",
       " '58e683fc-c97a-11ee-9b9b-a434d9523559',\n",
       " '58e683fd-c97a-11ee-887b-a434d9523559',\n",
       " '58e683fe-c97a-11ee-bca5-a434d9523559',\n",
       " '58e683ff-c97a-11ee-8eea-a434d9523559',\n",
       " '58e68400-c97a-11ee-ba7c-a434d9523559',\n",
       " '58e68401-c97a-11ee-bba2-a434d9523559',\n",
       " '58e68402-c97a-11ee-b35a-a434d9523559',\n",
       " '58e68403-c97a-11ee-ae9c-a434d9523559',\n",
       " '58e68404-c97a-11ee-9592-a434d9523559',\n",
       " '58e68405-c97a-11ee-9965-a434d9523559',\n",
       " '58e68406-c97a-11ee-9cc1-a434d9523559',\n",
       " '58e68407-c97a-11ee-83c6-a434d9523559',\n",
       " '58e68408-c97a-11ee-8720-a434d9523559',\n",
       " '58e68409-c97a-11ee-88a3-a434d9523559',\n",
       " '58e6840a-c97a-11ee-a5d2-a434d9523559',\n",
       " '58e6840b-c97a-11ee-8bb0-a434d9523559',\n",
       " '58e6840c-c97a-11ee-a138-a434d9523559',\n",
       " '58e6840d-c97a-11ee-a475-a434d9523559',\n",
       " '58e6840e-c97a-11ee-86fc-a434d9523559',\n",
       " '58e6840f-c97a-11ee-b27e-a434d9523559',\n",
       " '58e68410-c97a-11ee-8341-a434d9523559',\n",
       " '58e68411-c97a-11ee-af2b-a434d9523559',\n",
       " '58e68412-c97a-11ee-996a-a434d9523559',\n",
       " '58e68413-c97a-11ee-ad83-a434d9523559',\n",
       " '58e68414-c97a-11ee-afde-a434d9523559',\n",
       " '58e68415-c97a-11ee-8c61-a434d9523559',\n",
       " '58e68416-c97a-11ee-b9e1-a434d9523559',\n",
       " '58e68417-c97a-11ee-ba52-a434d9523559',\n",
       " '58e68418-c97a-11ee-bca6-a434d9523559',\n",
       " '58e68419-c97a-11ee-aaea-a434d9523559',\n",
       " '58e6841a-c97a-11ee-823d-a434d9523559',\n",
       " '58e6841b-c97a-11ee-8060-a434d9523559',\n",
       " '58e6841c-c97a-11ee-ba2c-a434d9523559',\n",
       " '58e6841d-c97a-11ee-b14d-a434d9523559',\n",
       " '58e6841e-c97a-11ee-a93d-a434d9523559',\n",
       " '58e6841f-c97a-11ee-ac7a-a434d9523559',\n",
       " '58e68420-c97a-11ee-b204-a434d9523559',\n",
       " '58e6ab83-c97a-11ee-8655-a434d9523559',\n",
       " '58e6ab84-c97a-11ee-8c7c-a434d9523559',\n",
       " '58e6ab85-c97a-11ee-995e-a434d9523559',\n",
       " '58e6ae42-c97a-11ee-a467-a434d9523559',\n",
       " '58e6ae43-c97a-11ee-968e-a434d9523559',\n",
       " '58e6ae44-c97a-11ee-81b9-a434d9523559',\n",
       " '58e6ae45-c97a-11ee-8616-a434d9523559',\n",
       " '58e6ae46-c97a-11ee-9fa4-a434d9523559',\n",
       " '58e6ae47-c97a-11ee-b585-a434d9523559',\n",
       " '58e6ae48-c97a-11ee-abf3-a434d9523559',\n",
       " '58e6ae49-c97a-11ee-9596-a434d9523559',\n",
       " '58e6ae4a-c97a-11ee-bf19-a434d9523559',\n",
       " '58e6ae4b-c97a-11ee-9d36-a434d9523559',\n",
       " '58e6ae4c-c97a-11ee-8df8-a434d9523559',\n",
       " '58e6ae4d-c97a-11ee-ab7e-a434d9523559',\n",
       " '58e6ae4e-c97a-11ee-907e-a434d9523559',\n",
       " '58e6ae4f-c97a-11ee-8890-a434d9523559',\n",
       " '58e6ae50-c97a-11ee-a3e4-a434d9523559',\n",
       " '58e6ae51-c97a-11ee-9737-a434d9523559',\n",
       " '58e6ae52-c97a-11ee-8022-a434d9523559',\n",
       " '58e6ae53-c97a-11ee-a229-a434d9523559',\n",
       " '58e6ae54-c97a-11ee-8502-a434d9523559',\n",
       " '58e6ae55-c97a-11ee-846e-a434d9523559',\n",
       " '58e6ae56-c97a-11ee-bb5a-a434d9523559',\n",
       " '58e6ae57-c97a-11ee-a03f-a434d9523559',\n",
       " '58e6ae58-c97a-11ee-af52-a434d9523559',\n",
       " '58e6ae59-c97a-11ee-adfd-a434d9523559',\n",
       " '58e6ae5a-c97a-11ee-b7aa-a434d9523559',\n",
       " '58e6ae5b-c97a-11ee-9440-a434d9523559',\n",
       " '58e6ae5c-c97a-11ee-a7d5-a434d9523559',\n",
       " '58e6ae5d-c97a-11ee-ae3f-a434d9523559',\n",
       " '58e6ae5e-c97a-11ee-8bfc-a434d9523559',\n",
       " '58e6ae5f-c97a-11ee-ac70-a434d9523559',\n",
       " '58e6ae60-c97a-11ee-bfad-a434d9523559',\n",
       " '58e6ae61-c97a-11ee-b4c4-a434d9523559',\n",
       " '58e6ae62-c97a-11ee-959e-a434d9523559',\n",
       " '58e6ae63-c97a-11ee-a2cb-a434d9523559',\n",
       " '58e6ae64-c97a-11ee-bc34-a434d9523559',\n",
       " '58e6ae65-c97a-11ee-a922-a434d9523559',\n",
       " '58e6ae66-c97a-11ee-9c64-a434d9523559',\n",
       " '58e6ae67-c97a-11ee-9bcb-a434d9523559',\n",
       " '58e6ae68-c97a-11ee-97bb-a434d9523559',\n",
       " '58e6ae69-c97a-11ee-aaef-a434d9523559',\n",
       " '58e6ae6a-c97a-11ee-a487-a434d9523559',\n",
       " '58e6ae6b-c97a-11ee-b540-a434d9523559',\n",
       " '58e6ae6c-c97a-11ee-ad65-a434d9523559',\n",
       " '58e6ae6d-c97a-11ee-ae44-a434d9523559',\n",
       " '58e6ae6e-c97a-11ee-9186-a434d9523559']"
      ]
     },
     "execution_count": 7,
     "metadata": {},
     "output_type": "execute_result"
    }
   ],
   "source": [
    "# Before executing the following code, make sure to have\n",
    "# your OpenAI key saved in the “OPENAI_API_KEY” environment variable.\n",
    "embeddings = HuggingFaceEmbeddings(model_name = 'sentence-transformers/all-MiniLM-L6-v2',\n",
    "                                       model_kwargs = {'device':'cpu'} )\n",
    "\n",
    "# create Deep Lake dataset\n",
    "# TODO: use your organization id here. (by default, org id is your username)\n",
    "my_activeloop_org_id = \"thapabibek1129\"\n",
    "my_activeloop_dataset_name = \"langchain_course_customer_support\"\n",
    "dataset_path = f\"hub://{my_activeloop_org_id}/{my_activeloop_dataset_name}\"\n",
    "db = DeepLake(dataset_path=dataset_path, embedding_function=embeddings)\n",
    "\n",
    "# add documents to our Deep Lake dataset\n",
    "db.add_documents(docs)"
   ]
  },
  {
   "cell_type": "code",
   "execution_count": 9,
   "metadata": {},
   "outputs": [
    {
     "name": "stdout",
     "output_type": "stream",
     "text": [
      "Home > Tech > How to Check Disk Usage in Linux (4 Methods)\n",
      "\n",
      "How to Check Disk Usage in Linux (4 Methods)\n",
      "\n",
      "Beebom Staff\n",
      "\n",
      "Updated: December 19, 2023\n",
      "\n",
      "Comments\t\t\t\t\t\t\t\n",
      "\t\t\t\t\t\t\t\n",
      "\t\t\t\t\t\t\t\t0\n",
      "\n",
      "Share\n",
      "\n",
      "Copied\n",
      "\n",
      "There may be times when you need to download some important files or transfer some photos to your Linux system, but face a problem of insufficient disk space. You head over to your file manager to delete the large files which you no longer require, but you have no clue which of them are occupying most of your disk space. In this article, we will show some easy methods to check disk usage in Linux from both the terminal and the GUI application.\n",
      "\n",
      "Table of Contents\n",
      "\n",
      "Display Disk Usage in Human Readable Format\n",
      "\n",
      "Display Disk Occupancy of a Particular Type\n",
      "\n",
      "Display Disk Usage in Human Readable Format\n",
      "\n",
      "Display Disk Usage for a Particular Directory\n",
      "\n",
      "Compare Disk Usage of Two Directories\n",
      "\n",
      "Sorting Files based on File Size\n",
      "\n",
      "Exclude Files Based on Their File Size\n",
      "\n",
      "Exclude Files Based on their Types\n"
     ]
    }
   ],
   "source": [
    "# let's see the top relevant documents to a specific query\n",
    "query = \"how to check disk usage in linux?\"\n",
    "docs = db.similarity_search(query)\n",
    "print(docs[0].page_content)"
   ]
  },
  {
   "cell_type": "markdown",
   "metadata": {},
   "source": [
    "### 2: Craft a prompt for T-5 or Mistral using the suggested strategies"
   ]
  },
  {
   "cell_type": "code",
   "execution_count": 10,
   "metadata": {},
   "outputs": [],
   "source": [
    "# let's write a prompt for a customer support chatbot that\n",
    "# answer questions using information extracted from our db\n",
    "template = \"\"\"You are an exceptional customer support chatbot that gently answer questions.\n",
    "\n",
    "You know the following context information.\n",
    "\n",
    "{chunks_formatted}\n",
    "\n",
    "Answer to the following question from a customer. Use only information from the previous context information. Do not invent stuff.\n",
    "\n",
    "Question: {query}\n",
    "\n",
    "Answer:\"\"\"\n",
    "\n",
    "prompt = PromptTemplate(\n",
    "    input_variables=[\"chunks_formatted\", \"query\"],\n",
    "    template=template,\n",
    ")"
   ]
  },
  {
   "cell_type": "markdown",
   "metadata": {},
   "source": [
    "# 3: Utilize the T-5 or Mistral model with a temperature of 0 for text generation"
   ]
  },
  {
   "cell_type": "code",
   "execution_count": 20,
   "metadata": {},
   "outputs": [
    {
     "name": "stderr",
     "output_type": "stream",
     "text": [
      "c:\\Users\\Ghost\\anaconda3\\envs\\genai360\\lib\\site-packages\\huggingface_hub\\utils\\_deprecation.py:131: FutureWarning: 'InferenceApi' (from 'huggingface_hub.inference_api') is deprecated and will be removed from version '1.0'. `InferenceApi` client is deprecated in favor of the more feature-complete `InferenceClient`. Check out this guide to learn how to convert your script to use it: https://huggingface.co/docs/huggingface_hub/guides/inference#legacy-inferenceapi-client.\n",
      "  warnings.warn(warning_message, FutureWarning)\n"
     ]
    }
   ],
   "source": [
    "# Load Models\n",
    "\n",
    "llm_t5 = HuggingFaceHub(\n",
    "    repo_id='google/flan-t5-large',\n",
    "    model_kwargs={'temperature':0,\"max_length\": 64,\"max_new_tokens\":128}\n",
    ")\n",
    "\n",
    "llm_mistral = HuggingFaceHub(\n",
    "    repo_id='mistralai/Mistral-7B-Instruct-v0.2',\n",
    "    model_kwargs={'temperature':0.5,\"max_length\": 64,\"max_new_tokens\":512}\n",
    ")\n"
   ]
  },
  {
   "cell_type": "code",
   "execution_count": 21,
   "metadata": {},
   "outputs": [
    {
     "name": "stdout",
     "output_type": "stream",
     "text": [
      "------T5-------\n",
      "From both the terminal and the GUI application.\n",
      "------Mistral-------\n",
      " There are several methods to check disk usage in Linux, both through the terminal and the GUI. One of the simplest methods is by using the df command, which displays the total and used space for each mounted file system. Another method is by using the Gnome Disk Utility or the GDU Disk Usage Analyzer tool, which provide a graphical representation of disk usage. To check the disk usage for a specific directory, use the 'du' command with the '-h' flag, followed by the directory name. For example, 'du -h /path/to/directory'. To display the sizes in human-readable format like in megabytes, gigabytes, etc., use the '-h' flag with the 'df' command, i.e., 'df -h'. To compare the disk usage of two directories, use the 'du' command followed by the directory names, i.e., 'du directory1 directory2'.\n"
     ]
    }
   ],
   "source": [
    "# the full pipeline\n",
    "\n",
    "# user question\n",
    "query = \"How to check disk usage in linux?\"\n",
    "\n",
    "# retrieve relevant chunks\n",
    "docs = db.similarity_search(query)\n",
    "retrieved_chunks = [doc.page_content for doc in docs]\n",
    "\n",
    "# format the prompt\n",
    "chunks_formatted = \"\\n\\n\".join(retrieved_chunks)\n",
    "prompt_formatted = prompt.format(chunks_formatted=chunks_formatted, query=query)\n",
    "\n",
    "print(\"------T5-------\")\n",
    "answer = llm_t5(prompt_formatted)\n",
    "print(answer)\n",
    "\n",
    "print(\"------Mistral-------\")\n",
    "answer = llm_mistral(prompt_formatted)\n",
    "print(answer)\n"
   ]
  },
  {
   "cell_type": "code",
   "execution_count": 22,
   "metadata": {},
   "outputs": [
    {
     "name": "stdout",
     "output_type": "stream",
     "text": [
      "------T5-------\n",
      "Heading to any of the NFT marketplaces, and making a purchase.\n",
      "------Mistral-------\n",
      " To buy NFTs, you need to have a crypto wallet that supports NFTs, such as MetaMask. Once you have created your wallet, you can connect it to the platform where you want to buy your NFT, such as OpenSea or Rarible. After that, you can browse through the available NFTs, check their prices, and make a purchase using your cryptocurrency. Make sure to read the fine print regarding fees and other terms before making a purchase.\n"
     ]
    }
   ],
   "source": [
    "# the full pipeline\n",
    "\n",
    "# user question\n",
    "query = \"How to buy NFTs?\"\n",
    "\n",
    "# retrieve relevant chunks\n",
    "docs = db.similarity_search(query)\n",
    "retrieved_chunks = [doc.page_content for doc in docs]\n",
    "\n",
    "# format the prompt\n",
    "chunks_formatted = \"\\n\\n\".join(retrieved_chunks)\n",
    "prompt_formatted = prompt.format(chunks_formatted=chunks_formatted, query=query)\n",
    "\n",
    "prompt_formatted = prompt.format(chunks_formatted=chunks_formatted, query=query)\n",
    "\n",
    "print(\"------T5-------\")\n",
    "answer = llm_t5(prompt_formatted)\n",
    "print(answer)\n",
    "\n",
    "print(\"------Mistral-------\")\n",
    "answer = llm_mistral(prompt_formatted)\n",
    "print(answer)\n"
   ]
  },
  {
   "cell_type": "code",
   "execution_count": null,
   "metadata": {},
   "outputs": [],
   "source": []
  }
 ],
 "metadata": {
  "kernelspec": {
   "display_name": "genai360",
   "language": "python",
   "name": "python3"
  },
  "language_info": {
   "codemirror_mode": {
    "name": "ipython",
    "version": 3
   },
   "file_extension": ".py",
   "mimetype": "text/x-python",
   "name": "python",
   "nbconvert_exporter": "python",
   "pygments_lexer": "ipython3",
   "version": "3.9.18"
  }
 },
 "nbformat": 4,
 "nbformat_minor": 2
}
