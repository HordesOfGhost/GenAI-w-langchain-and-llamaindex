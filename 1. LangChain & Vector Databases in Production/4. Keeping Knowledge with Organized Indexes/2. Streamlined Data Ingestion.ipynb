{
 "cells": [
  {
   "cell_type": "code",
   "execution_count": 1,
   "metadata": {},
   "outputs": [
    {
     "data": {
      "text/plain": [
       "True"
      ]
     },
     "execution_count": 1,
     "metadata": {},
     "output_type": "execute_result"
    }
   ],
   "source": [
    "from dotenv import load_dotenv\n",
    "\n",
    "load_dotenv('../../.env')"
   ]
  },
  {
   "cell_type": "markdown",
   "metadata": {},
   "source": [
    "# Text Loaders"
   ]
  },
  {
   "cell_type": "code",
   "execution_count": 4,
   "metadata": {},
   "outputs": [],
   "source": [
    "from langchain.document_loaders import TextLoader\n",
    "\n",
    "loader = TextLoader('my_file.txt')\n",
    "documents = loader.load()"
   ]
  },
  {
   "cell_type": "code",
   "execution_count": 5,
   "metadata": {},
   "outputs": [
    {
     "name": "stdout",
     "output_type": "stream",
     "text": [
      "[Document(page_content='Google opens up its AI language model PaLM to challenge OpenAI and GPT-3\\nGoogle is offering developers access to one of its most advanced AI language models: PaLM.\\nThe search giant is launching an API for PaLM alongside a number of AI enterprise tools\\nit says will help businesses “generate text, images, code, videos, audio, and more from\\nsimple natural language prompts.”\\n\\nPaLM is a large language model, or LLM, similar to the GPT series created by OpenAI or\\nMeta’s LLaMA family of models. Google first announced PaLM in April 2022. Like other LLMs,\\nPaLM is a flexible system that can potentially carry out all sorts of text generation and\\nediting tasks. You could train PaLM to be a conversational chatbot like ChatGPT, for\\nexample, or you could use it for tasks like summarizing text or even writing code.\\n(It’s similar to features Google also announced today for its Workspace apps like Google\\nDocs and Gmail.)\\n', metadata={'source': 'my_file.txt'})]\n"
     ]
    }
   ],
   "source": [
    "print(documents)"
   ]
  },
  {
   "cell_type": "markdown",
   "metadata": {},
   "source": [
    "# PyDF Loader"
   ]
  },
  {
   "cell_type": "code",
   "execution_count": 7,
   "metadata": {},
   "outputs": [
    {
     "name": "stdout",
     "output_type": "stream",
     "text": [
      "page_content='2 \\n  \\n \\n1.1.3  Customer to Business (C2B)  \\nConsumer -to-business (C2B) is a business model in which consumers (individuals) intera ct with a business. \\nFor example, when a consumer writes reviews or when a consumer gives a useful idea for new product \\ndevelopment then that consumer is creating value for the business if the business adopts the input. In the \\nC2B model, a reverse auction or demand collection model, enables buyers to name or demand their own \\nprice, which is often binding, for a specific good or service. Inside of a consumer to business market the \\nroles involved in the transaction must be established and the consumer must offer something of value to the \\nbusiness.  \\n \\n1.1.4  Customer to Customer (C2C)  \\nConsumer -to-consumer (C2C) is a bu siness model where a consumer (individual) interacts  with another \\nconsumer (individual) with one being buyer and another seller. For example,  Hamrobazaar, Facebook \\nMarketplace.  \\n \\n1.2. Anatomy of E -Commerce  \\nThe building blocks in the infrastructure are Commo n business services, Messaging & Information \\nDistribution, Multimedia Content and Network Publishing, and the Information Superhighway. And the \\ntwo pillars supporting all e -commerce applications and infrastructure are Public  Policy and Technical \\nStandards.' metadata={'source': 'dummy.pdf', 'page': 3}\n"
     ]
    }
   ],
   "source": [
    "\n",
    "from langchain.document_loaders import PyPDFLoader\n",
    "\n",
    "loader = PyPDFLoader(\"dummy.pdf\")\n",
    "pages = loader.load_and_split()\n",
    "\n",
    "print(pages[3])"
   ]
  },
  {
   "cell_type": "markdown",
   "metadata": {},
   "source": [
    "# SeleniumURLLoader"
   ]
  },
  {
   "cell_type": "code",
   "execution_count": 10,
   "metadata": {},
   "outputs": [
    {
     "name": "stdout",
     "output_type": "stream",
     "text": [
      "page_content='OPENASSISTANT TAKES ON CHATGPT!\\n\\nखोज्नुहोस्\\n\\nजानकारी\\n\\nकिनमेल\\n\\nपछि हेर्नुहोस्\\n\\nसेयर गर्नुहोस्\\n\\nलिंक प्रतिलिपि गर्नुहोस्\\n\\nअनम्युट गर्न ट्याप गर्नुहोस्\\n\\n२ गुणा\\n\\nयदि प्लेब्याक छिटै सुरु हुँदैन भने, तपाईँको यन्त्र फेरि सुरु गर्ने प्रयास गर्नुहोस्।\\n\\nयसपछि प्ले हुने भिडियो\\n\\nलाइभआगामी\\n\\nअब प्ले गर्नुहोस्\\n\\nMachine Learning Street Talk\\n\\nसदस्यता लिनुहोस्\\n\\nसदस्यता लिइएको\\n\\nतपाईं साइन आउट हुनुहुन्छ\\n\\nतपाईंले हेर्ने भिडियोहरू टिभी को हेराइको इतिहासमा थपिन सक्छन् र यिनले टिभी का सिफारिसहरूमा प्रभाव पार्न सक्छन्। यसलाई हटाउन, आफ्नो कम्प्युटरबाट यसलाई रद्द गरी YouTube मा साइन इन गर्नुहोस्।\\n\\nसेयर गर्नुहोस्\\n\\nसाझेदारी जानकारी प्राप्त गर्दा एउटा त्रुटि भयो। कृपया पछि फेरि प्रयास गर्नुहोस्।\\n\\n2:19\\n\\n2:19 / 59:51\\n\\nपूरा भिडियो हेर्नुहोस्\\n\\n•\\n\\nविवरण हेर्न स्क्रोल गर्नुहोस्\\n\\nबारेमा\\n\\nप्रेस\\n\\nप्रतिलिपि अधिकार\\n\\nहामीलाई सम्पर्क गर्नुहोस्\\n\\nनिर्माताहरू\\n\\nविज्ञापन गर्नुहोस्\\n\\nविकासकर्ताहरू\\n\\nसर्तहरू\\n\\nगोपनीयता\\n\\nनीति तथा सुरक्षा\\n\\nYouTube ले कसरी काम गर्छ\\n\\nनयाँ सुविधाहरू प्रयोग गरी हेर्नुहोस्\\n\\n© 2024 Google LLC' metadata={'source': 'https://www.youtube.com/watch?v=TFa539R09EQ&t=139s'}\n"
     ]
    }
   ],
   "source": [
    "from langchain.document_loaders import SeleniumURLLoader\n",
    "\n",
    "urls = [\n",
    "    \"https://www.youtube.com/watch?v=TFa539R09EQ&t=139s\",\n",
    "    \"https://www.youtube.com/watch?v=6Zv6A_9urh4&t=112s\"\n",
    "]\n",
    "\n",
    "loader = SeleniumURLLoader(urls=urls, browser=\"chrome\", headless=True)\n",
    "data = loader.load()\n",
    "\n",
    "print(data[0])"
   ]
  },
  {
   "cell_type": "markdown",
   "metadata": {},
   "source": [
    "# Google Drive Loader"
   ]
  },
  {
   "cell_type": "code",
   "execution_count": null,
   "metadata": {},
   "outputs": [],
   "source": [
    "\"\"\"\n",
    "    To set up the credentials_file, follow these steps:\n",
    "\n",
    "    Create a new Google Cloud Platform project or use an existing one by visiting the Google Cloud Console. Ensure that billing is enabled for your project.\n",
    "    Enable the Google Drive API by navigating to its dashboard in the Google Cloud Console and clicking \"Enable.\"\n",
    "    Create a service account by going to the Service Accounts page in the Google Cloud Console. Follow the prompts to set up a new service account.\n",
    "    Assign necessary roles to the service account, such as \"Google Drive API - Drive File Access\" and \"Google Drive API - Drive Metadata Read/Write Access,\" depending on your needs.\n",
    "    After creating the service account, access the \"Actions\" menu next to it, select \"Manage keys,\" click \"Add Key,\" and choose \"JSON\" as the key type. This generates a JSON key file and downloads it to your computer, which serves as your credentials_file.\n",
    "    Retrieve the folder or document ID from the URL:\n",
    "\n",
    "    Folder: https://drive.google.com/drive/u/0/folders/{folder_id}\n",
    "    Document: https://docs.google.com/document/d/{document_id}/edit\n",
    "    Import the GoogleDriveLoader class:\n",
    "    \"\"\""
   ]
  },
  {
   "cell_type": "code",
   "execution_count": null,
   "metadata": {},
   "outputs": [],
   "source": [
    "from langchain.document_loaders import GoogleDriveLoader\n",
    "\n",
    "loader = GoogleDriveLoader(\n",
    "    folder_id=\"your_folder_id\",\n",
    "    recursive=False  # Optional: Fetch files from subfolders recursively. Defaults to False.\n",
    ")\n",
    "\n",
    "docs = loader.load()    "
   ]
  }
 ],
 "metadata": {
  "kernelspec": {
   "display_name": "genai360",
   "language": "python",
   "name": "python3"
  },
  "language_info": {
   "codemirror_mode": {
    "name": "ipython",
    "version": 3
   },
   "file_extension": ".py",
   "mimetype": "text/x-python",
   "name": "python",
   "nbconvert_exporter": "python",
   "pygments_lexer": "ipython3",
   "version": "3.9.18"
  }
 },
 "nbformat": 4,
 "nbformat_minor": 2
}
