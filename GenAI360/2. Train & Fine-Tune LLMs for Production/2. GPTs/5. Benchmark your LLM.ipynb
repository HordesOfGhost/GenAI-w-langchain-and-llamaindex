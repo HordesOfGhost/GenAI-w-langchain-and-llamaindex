{
 "cells": [
  {
   "cell_type": "code",
   "execution_count": null,
   "metadata": {},
   "outputs": [],
   "source": [
    "git clone https://github.com/EleutherAI/lm-evaluation-harness\n",
    "cd llama.cpp && git checkout e2eb966 # Pin to version 0.3.0"
   ]
  },
  {
   "cell_type": "code",
   "execution_count": null,
   "metadata": {},
   "outputs": [],
   "source": [
    "from lm_eval import tasks\n",
    "\n",
    "print(tasks.ALL_TASKS)"
   ]
  },
  {
   "cell_type": "markdown",
   "metadata": {},
   "source": [
    "# Evaluation Script"
   ]
  },
  {
   "cell_type": "code",
   "execution_count": null,
   "metadata": {},
   "outputs": [],
   "source": [
    "python main.py \\\n",
    "    --model hf-causal \\\n",
    "    --model_args pretrained=facebook/opt-1.3b \\\n",
    "    --tasks hellaswag \\\n",
    "    --device cuda:0"
   ]
  },
  {
   "cell_type": "code",
   "execution_count": null,
   "metadata": {},
   "outputs": [],
   "source": [
    "export OPENAI_API_SECRET_KEY=YOUR_KEY_HERE\n",
    "\n",
    "python main.py \\\n",
    "    --model gpt3 \\\n",
    "    --model_args engine=davinci \\\n",
    "    --tasks hellaswag"
   ]
  }
 ],
 "metadata": {
  "language_info": {
   "name": "python"
  }
 },
 "nbformat": 4,
 "nbformat_minor": 2
}
