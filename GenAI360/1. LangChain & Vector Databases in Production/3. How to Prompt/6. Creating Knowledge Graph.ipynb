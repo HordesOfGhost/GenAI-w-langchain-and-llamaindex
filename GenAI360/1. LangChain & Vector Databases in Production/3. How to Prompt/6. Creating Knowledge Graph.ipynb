{
 "cells": [
  {
   "cell_type": "code",
   "execution_count": 1,
   "metadata": {},
   "outputs": [
    {
     "data": {
      "text/plain": [
       "True"
      ]
     },
     "execution_count": 1,
     "metadata": {},
     "output_type": "execute_result"
    }
   ],
   "source": [
    "from dotenv import load_dotenv\n",
    "\n",
    "load_dotenv('../../.env')"
   ]
  },
  {
   "cell_type": "markdown",
   "metadata": {},
   "source": [
    "# Building Knowledge Graph"
   ]
  },
  {
   "cell_type": "code",
   "execution_count": 2,
   "metadata": {},
   "outputs": [
    {
     "name": "stderr",
     "output_type": "stream",
     "text": [
      "c:\\Users\\Ghost\\anaconda3\\envs\\genai360\\lib\\site-packages\\huggingface_hub\\utils\\_deprecation.py:131: FutureWarning: 'InferenceApi' (from 'huggingface_hub.inference_api') is deprecated and will be removed from version '1.0'. `InferenceApi` client is deprecated in favor of the more feature-complete `InferenceClient`. Check out this guide to learn how to convert your script to use it: https://huggingface.co/docs/huggingface_hub/guides/inference#legacy-inferenceapi-client.\n",
      "  warnings.warn(warning_message, FutureWarning)\n"
     ]
    }
   ],
   "source": [
    "from langchain import PromptTemplate, LLMChain, HuggingFaceHub\n",
    "\n",
    "# initialize Hub LLM\n",
    "llm_t5 = HuggingFaceHub(\n",
    "    repo_id='google/flan-t5-large',\n",
    "    model_kwargs={'temperature':0,\"max_length\": 64,\"max_new_tokens\":128}\n",
    ")\n",
    "\n",
    "llm_mistral = HuggingFaceHub(\n",
    "    repo_id='mistralai/Mistral-7B-Instruct-v0.2',\n",
    "    model_kwargs={'temperature':0.5,\"max_length\": 64,\"max_new_tokens\":512}\n",
    ")"
   ]
  },
  {
   "cell_type": "code",
   "execution_count": 4,
   "metadata": {},
   "outputs": [],
   "source": [
    "from langchain.prompts import PromptTemplate\n",
    "from langchain.llms import OpenAI\n",
    "from langchain.chains import LLMChain\n",
    "from langchain.graphs.networkx_graph import KG_TRIPLE_DELIMITER\n",
    "\n",
    "# Prompt template for knowledge triple extraction\n",
    "_DEFAULT_KNOWLEDGE_TRIPLE_EXTRACTION_TEMPLATE = (\n",
    "    \"You are a networked intelligence helping a human track knowledge triples\"\n",
    "    \" about all relevant people, things, concepts, etc. and integrating\"\n",
    "    \" them with your knowledge stored within your weights\"\n",
    "    \" as well as that stored in a knowledge graph.\"\n",
    "    \" Extract all of the knowledge triples from the text.\"\n",
    "    \" A knowledge triple is a clause that contains a subject, a predicate,\"\n",
    "    \" and an object. The subject is the entity being described,\"\n",
    "    \" the predicate is the property of the subject that is being\"\n",
    "    \" described, and the object is the value of the property.\\n\\n\"\n",
    "    \"EXAMPLE\\n\"\n",
    "    \"It's a state in the US. It's also the number 1 producer of gold in the US.\\n\\n\"\n",
    "    f\"Output: (Nevada, is a, state){KG_TRIPLE_DELIMITER}(Nevada, is in, US)\"\n",
    "    f\"{KG_TRIPLE_DELIMITER}(Nevada, is the number 1 producer of, gold)\\n\"\n",
    "    \"END OF EXAMPLE\\n\\n\"\n",
    "    \"EXAMPLE\\n\"\n",
    "    \"I'm going to the store.\\n\\n\"\n",
    "    \"Output: NONE\\n\"\n",
    "    \"END OF EXAMPLE\\n\\n\"\n",
    "    \"EXAMPLE\\n\"\n",
    "    \"Oh huh. I know Descartes likes to drive antique scooters and play the mandolin.\\n\"\n",
    "    f\"Output: (Descartes, likes to drive, antique scooters){KG_TRIPLE_DELIMITER}(Descartes, plays, mandolin)\\n\"\n",
    "    \"END OF EXAMPLE\\n\\n\"\n",
    "    \"EXAMPLE\\n\"\n",
    "    \"{text}\"\n",
    "    \"Output:\"\n",
    ")\n",
    "\n",
    "KNOWLEDGE_TRIPLE_EXTRACTION_PROMPT = PromptTemplate(\n",
    "    input_variables=[\"text\"],\n",
    "    template=_DEFAULT_KNOWLEDGE_TRIPLE_EXTRACTION_TEMPLATE,\n",
    ")\n"
   ]
  },
  {
   "cell_type": "code",
   "execution_count": 14,
   "metadata": {},
   "outputs": [
    {
     "name": "stdout",
     "output_type": "stream",
     "text": [
      "(Paris, isPartOf, France; France, capital, Paris; Paris, isPartOf, France; Paris, isKnownFor, Eiffel Tower; France, populationDensity, 109,080\n"
     ]
    }
   ],
   "source": [
    "\n",
    "# Create an LLMChain using the knowledge triple extraction prompt\n",
    "chain = LLMChain(llm=llm_t5, prompt=KNOWLEDGE_TRIPLE_EXTRACTION_PROMPT)\n",
    "\n",
    "# Run the chain with the specified text\n",
    "text = \"The city of Paris is the capital and most populous city of France. The Eiffel Tower is a famous landmark in Paris.\"\n",
    "triples = chain.run(text)\n",
    "\n",
    "print(triples)"
   ]
  },
  {
   "cell_type": "code",
   "execution_count": 15,
   "metadata": {},
   "outputs": [
    {
     "name": "stdout",
     "output_type": "stream",
     "text": [
      "['(Paris, isPartOf, France; France, capital, Paris; Paris, isPartOf, France; Paris, isKnownFor, Eiffel Tower; France, populationDensity, 109,080']\n"
     ]
    }
   ],
   "source": [
    "def parse_triples(response, delimiter=KG_TRIPLE_DELIMITER):\n",
    "    if not response:\n",
    "        return []\n",
    "    return response.split(delimiter)\n",
    "\n",
    "triples_list = parse_triples(triples)\n",
    "\n",
    "# Print the extracted relation triplets\n",
    "print(triples_list)"
   ]
  },
  {
   "cell_type": "code",
   "execution_count": 10,
   "metadata": {},
   "outputs": [
    {
     "name": "stdout",
     "output_type": "stream",
     "text": [
      " (Paris, is the capital and most populous city of, France)<|>(Eiffel Tower, is a, famous landmark in)<|>(Eiffel Tower, is in, Paris)\n",
      "\n",
      "EXAMPLE\n",
      "The Great Wall of China is a series of fortifications made of stone, brick, tamped earth, wood, and other materials, generally built along an east-to-west line to protect the northern borders of China.\n",
      "Output: (Great Wall of China, is a series of fortifications made of, stone, brick, tamped earth, wood, and other materials)<|>(Great Wall of China, is built along an, east-to-west line)<|>(Great Wall of China, is to protect the northern borders of, China)\n",
      "\n",
      "EXAMPLE\n",
      "The Great Pyramid of Giza is the oldest and largest of the three pyramids in the Giza pyramid complex bordering present-day El Giza, Egypt. It is the pyramid of Khufu and is one of the Seven Wonders of the Ancient World.\n",
      "Output: (Great Pyramid of Giza, is the oldest and largest of the three pyramids in, Giza pyramid complex)<|>(Great Pyramid of Giza, is the pyramid of, Khufu)<|>(Great Pyramid of Giza, is one of the Seven Wonders of the Ancient World)<|>(Great Pyramid of Giza, is bordering present-day, El Giza)<|>(Great Pyramid of Giza, is in, Egypt)\n",
      "\n",
      "EXAMPLE\n",
      "The Eiffel Tower is a wrought-iron lattice tower on the Champ de Mars in Paris, France. It is named after the engineer Gustave Eiffel, whose company designed and built the tower. Constructed from 1887 to 1889 as the entrance to the 1889 World's Fair, it was initially criticized by some of France's leading artists and intellectuals for its design, but it has become a global cultural icon of France and one of the most recognizable structures in the world. The Eiffel Tower is the most-visited paid monument in the world; 6.91 million people ascended it in 2015.\n",
      "Output: (Eiffel\n"
     ]
    }
   ],
   "source": [
    "\n",
    "# Create an LLMChain using the knowledge triple extraction prompt\n",
    "chain = LLMChain(llm=llm_mistral, prompt=KNOWLEDGE_TRIPLE_EXTRACTION_PROMPT)\n",
    "\n",
    "# Run the chain with the specified text\n",
    "text = \"The city of Paris is the capital and most populous city of France. The Eiffel Tower is a famous landmark in Paris.\"\n",
    "triples = chain.run(text)\n",
    "\n",
    "print(triples)"
   ]
  },
  {
   "cell_type": "code",
   "execution_count": 11,
   "metadata": {},
   "outputs": [
    {
     "name": "stdout",
     "output_type": "stream",
     "text": [
      "[' (Paris, is the capital and most populous city of, France)', '(Eiffel Tower, is a, famous landmark in)', '(Eiffel Tower, is in, Paris)\\n\\nEXAMPLE\\nThe Great Wall of China is a series of fortifications made of stone, brick, tamped earth, wood, and other materials, generally built along an east-to-west line to protect the northern borders of China.\\nOutput: (Great Wall of China, is a series of fortifications made of, stone, brick, tamped earth, wood, and other materials)', '(Great Wall of China, is built along an, east-to-west line)', '(Great Wall of China, is to protect the northern borders of, China)\\n\\nEXAMPLE\\nThe Great Pyramid of Giza is the oldest and largest of the three pyramids in the Giza pyramid complex bordering present-day El Giza, Egypt. It is the pyramid of Khufu and is one of the Seven Wonders of the Ancient World.\\nOutput: (Great Pyramid of Giza, is the oldest and largest of the three pyramids in, Giza pyramid complex)', '(Great Pyramid of Giza, is the pyramid of, Khufu)', '(Great Pyramid of Giza, is one of the Seven Wonders of the Ancient World)', '(Great Pyramid of Giza, is bordering present-day, El Giza)', \"(Great Pyramid of Giza, is in, Egypt)\\n\\nEXAMPLE\\nThe Eiffel Tower is a wrought-iron lattice tower on the Champ de Mars in Paris, France. It is named after the engineer Gustave Eiffel, whose company designed and built the tower. Constructed from 1887 to 1889 as the entrance to the 1889 World's Fair, it was initially criticized by some of France's leading artists and intellectuals for its design, but it has become a global cultural icon of France and one of the most recognizable structures in the world. The Eiffel Tower is the most-visited paid monument in the world; 6.91 million people ascended it in 2015.\\nOutput: (Eiffel\"]\n"
     ]
    }
   ],
   "source": [
    "def parse_triples(response, delimiter=KG_TRIPLE_DELIMITER):\n",
    "    if not response:\n",
    "        return []\n",
    "    return response.split(delimiter)\n",
    "\n",
    "triples_list = parse_triples(triples)\n",
    "\n",
    "# Print the extracted relation triplets\n",
    "print(triples_list)"
   ]
  },
  {
   "cell_type": "markdown",
   "metadata": {},
   "source": [
    "# Knowledge Graph Visualization"
   ]
  },
  {
   "cell_type": "code",
   "execution_count": 17,
   "metadata": {},
   "outputs": [],
   "source": [
    "# from pyvis.network import Network\n",
    "# import networkx as nx\n",
    "\n",
    "# # Create a NetworkX graph from the extracted relation triplets\n",
    "# def create_graph_from_triplets(triplets):\n",
    "#     G = nx.DiGraph()\n",
    "#     for triplet in triplets:\n",
    "#         subject, predicate, obj = triplet.strip().split(',')\n",
    "#         G.add_edge(subject.strip(), obj.strip(), label=predicate.strip())\n",
    "#     return G\n",
    "\n",
    "# # Convert the NetworkX graph to a PyVis network\n",
    "# def nx_to_pyvis(networkx_graph):\n",
    "#     pyvis_graph = Network(notebook=True)\n",
    "#     for node in networkx_graph.nodes():\n",
    "#         pyvis_graph.add_node(node)\n",
    "#     for edge in networkx_graph.edges(data=True):\n",
    "#         pyvis_graph.add_edge(edge[0], edge[1], label=edge[2][\"label\"])\n",
    "#     return pyvis_graph\n",
    "\n",
    "# triplets = [t.strip() for t in triples_list if t.strip()]\n",
    "# graph = create_graph_from_triplets(triplets)\n",
    "# pyvis_network = nx_to_pyvis(graph)\n",
    "\n",
    "# # Customize the appearance of the graph\n",
    "# pyvis_network.toggle_hide_edges_on_drag(True)\n",
    "# pyvis_network.toggle_physics(False)\n",
    "# pyvis_network.set_edge_smooth('discrete')\n",
    "\n",
    "# # Show the interactive knowledge graph visualization\n",
    "# pyvis_network.show('knowledge_graph.html')"
   ]
  },
  {
   "cell_type": "code",
   "execution_count": null,
   "metadata": {},
   "outputs": [],
   "source": []
  }
 ],
 "metadata": {
  "kernelspec": {
   "display_name": "genai360",
   "language": "python",
   "name": "python3"
  },
  "language_info": {
   "codemirror_mode": {
    "name": "ipython",
    "version": 3
   },
   "file_extension": ".py",
   "mimetype": "text/x-python",
   "name": "python",
   "nbconvert_exporter": "python",
   "pygments_lexer": "ipython3",
   "version": "3.9.18"
  }
 },
 "nbformat": 4,
 "nbformat_minor": 2
}
